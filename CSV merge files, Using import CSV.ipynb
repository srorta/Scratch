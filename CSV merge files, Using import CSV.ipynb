{
 "cells": [
  {
   "cell_type": "code",
   "execution_count": 1,
   "metadata": {},
   "outputs": [],
   "source": [
    "import pandas as pd\n",
    "import os, glob\n",
    "import csv\n"
   ]
  },
  {
   "cell_type": "code",
   "execution_count": 2,
   "metadata": {},
   "outputs": [],
   "source": [
    "path = r\"C:\\Users\\srorta\\Desktop\\Headers_export\""
   ]
  },
  {
   "cell_type": "code",
   "execution_count": 3,
   "metadata": {},
   "outputs": [
    {
     "name": "stdout",
     "output_type": "stream",
     "text": [
      "C:\\Users\\srorta\\Desktop\\Headers_export\n"
     ]
    }
   ],
   "source": [
    "print(path)"
   ]
  },
  {
   "cell_type": "code",
   "execution_count": 4,
   "metadata": {},
   "outputs": [],
   "source": [
    "all_files = glob.glob(os.path.join(path, \"*.csv\"))"
   ]
  },
  {
   "cell_type": "code",
   "execution_count": 26,
   "metadata": {},
   "outputs": [
    {
     "data": {
      "text/plain": [
       "['C:\\\\Users\\\\srorta\\\\Desktop\\\\Headers_export\\\\eagle_t-1_Header.csv',\n",
       " 'C:\\\\Users\\\\srorta\\\\Desktop\\\\Headers_export\\\\guyana_geolog_headers.csv',\n",
       " 'C:\\\\Users\\\\srorta\\\\Desktop\\\\Headers_export\\\\haimara-1_bp1_Header.csv',\n",
       " 'C:\\\\Users\\\\srorta\\\\Desktop\\\\Headers_export\\\\haimara-1_Header.csv',\n",
       " 'C:\\\\Users\\\\srorta\\\\Desktop\\\\Headers_export\\\\hammerhead-1_bp01_Header.csv',\n",
       " 'C:\\\\Users\\\\srorta\\\\Desktop\\\\Headers_export\\\\hammerhead-1_bp02_Header.csv',\n",
       " 'C:\\\\Users\\\\srorta\\\\Desktop\\\\Headers_export\\\\hammerhead-1_Header.csv',\n",
       " 'C:\\\\Users\\\\srorta\\\\Desktop\\\\Headers_export\\\\hammerhead-2_Header.csv',\n",
       " 'C:\\\\Users\\\\srorta\\\\Desktop\\\\Headers_export\\\\hammerhead-3_Header.csv',\n",
       " 'C:\\\\Users\\\\srorta\\\\Desktop\\\\Headers_export\\\\liza-1_bp01_Header.csv',\n",
       " 'C:\\\\Users\\\\srorta\\\\Desktop\\\\Headers_export\\\\liza-1_bp02_Header.csv',\n",
       " 'C:\\\\Users\\\\srorta\\\\Desktop\\\\Headers_export\\\\liza-1_Header.csv',\n",
       " 'C:\\\\Users\\\\srorta\\\\Desktop\\\\Headers_export\\\\liza-2_Header.csv',\n",
       " 'C:\\\\Users\\\\srorta\\\\Desktop\\\\Headers_export\\\\liza-2_st1_Header.csv',\n",
       " 'C:\\\\Users\\\\srorta\\\\Desktop\\\\Headers_export\\\\liza-3_dontuse_Header.csv',\n",
       " 'C:\\\\Users\\\\srorta\\\\Desktop\\\\Headers_export\\\\liza-3_Header.csv',\n",
       " 'C:\\\\Users\\\\srorta\\\\Desktop\\\\Headers_export\\\\liza-3_st1_Header.csv',\n",
       " 'C:\\\\Users\\\\srorta\\\\Desktop\\\\Headers_export\\\\liza-4_Header.csv',\n",
       " 'C:\\\\Users\\\\srorta\\\\Desktop\\\\Headers_export\\\\liza-5_dontuse_Header.csv',\n",
       " 'C:\\\\Users\\\\srorta\\\\Desktop\\\\Headers_export\\\\liza-5_Header.csv',\n",
       " 'C:\\\\Users\\\\srorta\\\\Desktop\\\\Headers_export\\\\liza6_wi_Header.csv',\n",
       " 'C:\\\\Users\\\\srorta\\\\Desktop\\\\Headers_export\\\\liz_1g2_Header.csv',\n",
       " 'C:\\\\Users\\\\srorta\\\\Desktop\\\\Headers_export\\\\liz_1g3_Header.csv',\n",
       " 'C:\\\\Users\\\\srorta\\\\Desktop\\\\Headers_export\\\\liz_1g4_Header.csv',\n",
       " 'C:\\\\Users\\\\srorta\\\\Desktop\\\\Headers_export\\\\liz_1p1_Header.csv',\n",
       " 'C:\\\\Users\\\\srorta\\\\Desktop\\\\Headers_export\\\\liz_1p2_Header.csv',\n",
       " 'C:\\\\Users\\\\srorta\\\\Desktop\\\\Headers_export\\\\liz_1p3_Header.csv',\n",
       " 'C:\\\\Users\\\\srorta\\\\Desktop\\\\Headers_export\\\\liz_1p4_Header.csv',\n",
       " 'C:\\\\Users\\\\srorta\\\\Desktop\\\\Headers_export\\\\liz_1w1_Header.csv',\n",
       " 'C:\\\\Users\\\\srorta\\\\Desktop\\\\Headers_export\\\\liz_1w2_Header.csv',\n",
       " 'C:\\\\Users\\\\srorta\\\\Desktop\\\\Headers_export\\\\liz_2p1_Header.csv',\n",
       " 'C:\\\\Users\\\\srorta\\\\Desktop\\\\Headers_export\\\\liz_2p4_Header.csv',\n",
       " 'C:\\\\Users\\\\srorta\\\\Desktop\\\\Headers_export\\\\liz_2w2_Header.csv',\n",
       " 'C:\\\\Users\\\\srorta\\\\Desktop\\\\Headers_export\\\\liz_2w3_bp01_Header.csv',\n",
       " 'C:\\\\Users\\\\srorta\\\\Desktop\\\\Headers_export\\\\liz_2w3_Header.csv',\n",
       " 'C:\\\\Users\\\\srorta\\\\Desktop\\\\Headers_export\\\\liz_2w6_Header.csv',\n",
       " 'C:\\\\Users\\\\srorta\\\\Desktop\\\\Headers_export\\\\liz_3i2_Header.csv',\n",
       " 'C:\\\\Users\\\\srorta\\\\Desktop\\\\Headers_export\\\\liz_3i7_Header.csv',\n",
       " 'C:\\\\Users\\\\srorta\\\\Desktop\\\\Headers_export\\\\liz_3i7_st_Header.csv',\n",
       " 'C:\\\\Users\\\\srorta\\\\Desktop\\\\Headers_export\\\\liz_3p11_Header.csv',\n",
       " 'C:\\\\Users\\\\srorta\\\\Desktop\\\\Headers_export\\\\liz_3p14_Header.csv',\n",
       " 'C:\\\\Users\\\\srorta\\\\Desktop\\\\Headers_export\\\\liz_3p24_Header.csv',\n",
       " 'C:\\\\Users\\\\srorta\\\\Desktop\\\\Headers_export\\\\liz_4p13_Header.csv',\n",
       " 'C:\\\\Users\\\\srorta\\\\Desktop\\\\Headers_export\\\\liz_4p14_Header.csv',\n",
       " 'C:\\\\Users\\\\srorta\\\\Desktop\\\\Headers_export\\\\longtail-1_bp01_Header.csv',\n",
       " 'C:\\\\Users\\\\srorta\\\\Desktop\\\\Headers_export\\\\longtail-1_Header.csv',\n",
       " 'C:\\\\Users\\\\srorta\\\\Desktop\\\\Headers_export\\\\mako-1_bp1_Header.csv',\n",
       " 'C:\\\\Users\\\\srorta\\\\Desktop\\\\Headers_export\\\\mako-1_Header.csv',\n",
       " 'C:\\\\Users\\\\srorta\\\\Desktop\\\\Headers_export\\\\north_coronie_1_Header.csv',\n",
       " 'C:\\\\Users\\\\srorta\\\\Desktop\\\\Headers_export\\\\pacora-1_Header.csv',\n",
       " 'C:\\\\Users\\\\srorta\\\\Desktop\\\\Headers_export\\\\payara-1_Header.csv',\n",
       " 'C:\\\\Users\\\\srorta\\\\Desktop\\\\Headers_export\\\\payara-1_st1_Header.csv',\n",
       " 'C:\\\\Users\\\\srorta\\\\Desktop\\\\Headers_export\\\\payara-1_st2_Header.csv',\n",
       " 'C:\\\\Users\\\\srorta\\\\Desktop\\\\Headers_export\\\\payara-2_bp01_Header.csv',\n",
       " 'C:\\\\Users\\\\srorta\\\\Desktop\\\\Headers_export\\\\payara-2_Header.csv',\n",
       " 'C:\\\\Users\\\\srorta\\\\Desktop\\\\Headers_export\\\\pluma-1_bp01_Header.csv',\n",
       " 'C:\\\\Users\\\\srorta\\\\Desktop\\\\Headers_export\\\\pluma-1_Header.csv',\n",
       " 'C:\\\\Users\\\\srorta\\\\Desktop\\\\Headers_export\\\\pluma-1_st01_Header.csv',\n",
       " 'C:\\\\Users\\\\srorta\\\\Desktop\\\\Headers_export\\\\ranger-1_Header.csv',\n",
       " 'C:\\\\Users\\\\srorta\\\\Desktop\\\\Headers_export\\\\ranger-2_Header.csv',\n",
       " 'C:\\\\Users\\\\srorta\\\\Desktop\\\\Headers_export\\\\redtail-1oh_Header.csv',\n",
       " 'C:\\\\Users\\\\srorta\\\\Desktop\\\\Headers_export\\\\redtail-1st_Header.csv',\n",
       " 'C:\\\\Users\\\\srorta\\\\Desktop\\\\Headers_export\\\\skipjack-1_Header.csv',\n",
       " 'C:\\\\Users\\\\srorta\\\\Desktop\\\\Headers_export\\\\snoek-1_Header.csv',\n",
       " 'C:\\\\Users\\\\srorta\\\\Desktop\\\\Headers_export\\\\sorubim-1_Header.csv',\n",
       " 'C:\\\\Users\\\\srorta\\\\Desktop\\\\Headers_export\\\\tanager-1_Header.csv',\n",
       " 'C:\\\\Users\\\\srorta\\\\Desktop\\\\Headers_export\\\\tilapia-1_bp1_Header.csv',\n",
       " 'C:\\\\Users\\\\srorta\\\\Desktop\\\\Headers_export\\\\tilapia-1_Header.csv',\n",
       " 'C:\\\\Users\\\\srorta\\\\Desktop\\\\Headers_export\\\\tripletail-1_bp1_Header.csv',\n",
       " 'C:\\\\Users\\\\srorta\\\\Desktop\\\\Headers_export\\\\tripletail-1_bp2_Header.csv',\n",
       " 'C:\\\\Users\\\\srorta\\\\Desktop\\\\Headers_export\\\\tripletail-1_Header.csv',\n",
       " 'C:\\\\Users\\\\srorta\\\\Desktop\\\\Headers_export\\\\turbot-1_bp01_Header.csv',\n",
       " 'C:\\\\Users\\\\srorta\\\\Desktop\\\\Headers_export\\\\turbot-1_Header.csv',\n",
       " 'C:\\\\Users\\\\srorta\\\\Desktop\\\\Headers_export\\\\uaru-1_bp1_Header.csv',\n",
       " 'C:\\\\Users\\\\srorta\\\\Desktop\\\\Headers_export\\\\uaru-1_Header.csv',\n",
       " 'C:\\\\Users\\\\srorta\\\\Desktop\\\\Headers_export\\\\yellowtail-1_bp1_Header.csv',\n",
       " 'C:\\\\Users\\\\srorta\\\\Desktop\\\\Headers_export\\\\yellowtail-1_Header.csv',\n",
       " 'C:\\\\Users\\\\srorta\\\\Desktop\\\\Headers_export\\\\yellowtail-2oh_Header.csv',\n",
       " 'C:\\\\Users\\\\srorta\\\\Desktop\\\\Headers_export\\\\yellowtail-2st_Header.csv']"
      ]
     },
     "execution_count": 26,
     "metadata": {},
     "output_type": "execute_result"
    }
   ],
   "source": [
    "all_files"
   ]
  },
  {
   "cell_type": "code",
   "execution_count": 29,
   "metadata": {},
   "outputs": [
    {
     "name": "stdout",
     "output_type": "stream",
     "text": [
      "['API_NUMBER', 'A_PICKETT', 'COMPANY', 'COUNTRY', 'COUNTY', 'DATE_LOGGED', 'DATUM_ELEVATION', 'EDF', 'EGL', 'EKB', 'EPD', 'FIELD', 'LATITUDE', 'LOCATION', 'LONGITUDE', 'M_PICKETT', 'N_PICKETT', 'OPERATOR', 'RANG', 'RW_PICKETT', 'SECT', 'STATE', 'SURFACE_ELEV', 'TOWN', 'UNIQUE_WELL_ID', 'WELL_NAME', 'DRILLED_DEPTH', 'DRILL_MEAS_REF', 'ELEV_MEAS_REF', 'ELEV_PERM_DATUM', 'LOGGED_DEPTH', 'MEASUREMENT_REF', 'PERMANENT_DATUM', 'RHOB_DEPTH_GRAD', 'RHOB_DEPTH_INT', 'WD', 'DEPTH_BOTTOM', 'KICK_OFF_DEPTH', 'PARENT_WELL', 'RHOB_DSH', 'RHOB_FL', 'RHOB_SD', 'RHOB_SH', 'TNPH_DSH', 'TNPH_FL', 'TNPH_SD', 'TNPH_SH', 'TVD_BOTTOM', 'XOFFSET_BOTTOM', 'X_LOCATION', 'YOFFSET_BOTTOM', 'Y_LOCATION', 'OWC', 'TEST_GRAD', 'TEST_INT', 'HH_PERM_REDUCTI_GRAD', 'HH_PERM_REDUCTI_INT', 'HH_PERM_RED_GRAD', 'HH_PERM_RED_INT', 'L1_1', 'L1_1_GRAD', 'L1_1_GRAD_1', 'L1_1_INT', 'L1_1_INT_1', 'PHIT_GRAD', 'DD_GRAD', 'DD_INT', 'NPHI_DCL', 'NPHI_DSH', 'NPHI_FL', 'NPHI_MA', 'NPHI_WCL', 'NPHI_WSH', 'PROVINCE', 'RHOB_DCL', 'RHOB_MA', 'RHOB_WCL', 'RHOB_WSH', 'SS_GRAD', 'SS_INT', 'CORE_K_PHI_IB_GRAD', 'CORE_K_PHI_IB_INT', 'CORE_K_PHI_SS_GRAD', 'CORE_K_PHI_SS_INT', 'FF_GRAD', 'FF_INT', 'HS_GRAD', 'HS_INT', 'LS_GRAD', 'LS_INT', 'PHIT_MAX', 'PHIT_SH', 'PRE_GRAD', 'PRE_INT', 'ROT_GRAD', 'ROT_INT', 'SD_GRAD', 'SD_INT', 'SYMBOL', 'NPHI_DRYCLAY', 'NPHI_SILT', 'RHOZ_DRYCLAY', 'RHOZ_SILT', 'NPHI_CLN', 'NPHI_DRYCL', 'NPHI_OIL', 'NPHI_SAND_1', 'NPHI_WATER', 'NPHI_WTR', 'RHOZ_CLN', 'RHOZ_DRYCL', 'RHOZ_OIL', 'RHOZ_SAND_1', 'RHOZ_WATER', 'RHOZ_WTR', 'COLOR', 'L1_GRAD', 'L1_INT', 'GEODETIC_DATUM', 'RANGE', 'TNPS_DCL', 'TNPS_FL', 'TNPS_MA', 'TOWNSHIP', 'TNPS_WCL', 'LT_HPSS_GRAD', 'LT_HPSS_INT', 'LT_IB_GRAD', 'LT_IB_INT', 'LT_SS_GRAD', 'LT_SS_INT', 'NPHI1_GRAD', 'NPHI1_INT', 'NPHI2_GRAD', 'NPHI2_INT', 'DATE', 'TAPE_NAME', 'WATER_DEPTH', 'ONE_GRAD', 'ONE_INT', 'NPHI_SD', 'UNITY_GRAD', 'UNITY_INT', 'X_Q', 'X_QUARTZ', 'X_TOTAL_CLAY', 'X_TOTAL_FELDSPAR', 'Y_Q', 'Y_QUARTZ', 'Y_TOTAL_CLAY', 'Y_TOTAL_FELDSPAR', 'TNPH_MA', 'NPHI_CFL', 'RHOB_CFL', 'TL_HPSS_GRAD', 'TL_HPSS_INT', 'TL_IB_GRAD', 'TL_IB_INT', 'TB_IB_GRAD', 'TB_IB_INT', 'TB_SS_GRAD', 'TB_SS_INT', 'PPBE_GRAD', 'PPBE_INT', 'YT_IB_GRAD', 'YT_IB_INT', 'YT_SS_GRAD', 'YT_SS_INT']\n"
     ]
    }
   ],
   "source": [
    "fieldnames = []\n",
    "for filename in all_files:\n",
    "    with open(filename, \"r\", newline=\"\") as f_in:\n",
    "        reader = csv.reader(f_in)\n",
    "        headers = next(reader)\n",
    "        for h in headers:\n",
    "            if h not in fieldnames:\n",
    "                fieldnames.append(h)\n",
    "\n",
    "print(fieldnames)\n"
   ]
  },
  {
   "cell_type": "code",
   "execution_count": 30,
   "metadata": {
    "scrolled": true
   },
   "outputs": [
    {
     "name": "stdout",
     "output_type": "stream",
     "text": [
      "[('API_NUMBER', 'Unnamed: 0_level_1'), ('A_PICKETT', 'Unnamed: 1_level_1'), ('COMPANY', 'Unnamed: 2_level_1'), ('COUNTRY', 'Unnamed: 3_level_1'), ('COUNTY', 'Unnamed: 4_level_1'), ('DATE_LOGGED', 'Unnamed: 5_level_1'), ('DATUM_ELEVATION', 'Unnamed: 6_level_1'), ('EDF', 'FEET'), ('EGL', 'FEET'), ('EKB', 'FEET'), ('EPD', 'FEET'), ('FIELD', 'Unnamed: 11_level_1'), ('LATITUDE', 'DEGREES'), ('LOCATION', 'Unnamed: 13_level_1'), ('LONGITUDE', 'DEGREES'), ('M_PICKETT', 'Unnamed: 15_level_1'), ('N_PICKETT', 'Unnamed: 16_level_1'), ('OPERATOR', 'Unnamed: 17_level_1'), ('RANG', 'Unnamed: 18_level_1'), ('RW_PICKETT', 'OHMM'), ('SECT', 'Unnamed: 20_level_1'), ('STATE', 'Unnamed: 21_level_1'), ('SURFACE_ELEV', 'FEET'), ('TOWN', 'Unnamed: 23_level_1'), ('UNIQUE_WELL_ID', 'Unnamed: 24_level_1'), ('WELL_NAME', 'Unnamed: 25_level_1')]\n"
     ]
    },
    {
     "ename": "ParserError",
     "evalue": "Error tokenizing data. C error: Expected 27 fields in line 7, saw 39\n",
     "output_type": "error",
     "traceback": [
      "\u001b[1;31m---------------------------------------------------------------------------\u001b[0m",
      "\u001b[1;31mParserError\u001b[0m                               Traceback (most recent call last)",
      "\u001b[1;32m<ipython-input-30-f4647a342910>\u001b[0m in \u001b[0;36m<module>\u001b[1;34m\u001b[0m\n\u001b[0;32m      2\u001b[0m \u001b[0mGeolog_headers\u001b[0m \u001b[1;33m=\u001b[0m \u001b[1;33m[\u001b[0m\u001b[1;33m]\u001b[0m\u001b[1;33m\u001b[0m\u001b[1;33m\u001b[0m\u001b[0m\n\u001b[0;32m      3\u001b[0m \u001b[1;32mfor\u001b[0m \u001b[0mfile\u001b[0m \u001b[1;32min\u001b[0m \u001b[0mall_files\u001b[0m\u001b[1;33m:\u001b[0m\u001b[1;33m\u001b[0m\u001b[1;33m\u001b[0m\u001b[0m\n\u001b[1;32m----> 4\u001b[1;33m     \u001b[0mdf\u001b[0m \u001b[1;33m=\u001b[0m \u001b[0mpd\u001b[0m\u001b[1;33m.\u001b[0m\u001b[0mread_csv\u001b[0m\u001b[1;33m(\u001b[0m\u001b[0mfile\u001b[0m\u001b[1;33m,\u001b[0m \u001b[0mheader\u001b[0m \u001b[1;33m=\u001b[0m \u001b[1;33m[\u001b[0m\u001b[1;36m0\u001b[0m\u001b[1;33m,\u001b[0m\u001b[1;36m1\u001b[0m\u001b[1;33m]\u001b[0m\u001b[1;33m)\u001b[0m\u001b[1;33m\u001b[0m\u001b[1;33m\u001b[0m\u001b[0m\n\u001b[0m\u001b[0;32m      5\u001b[0m     \u001b[0mcol\u001b[0m \u001b[1;33m=\u001b[0m \u001b[0mdf\u001b[0m\u001b[1;33m.\u001b[0m\u001b[0mcolumns\u001b[0m\u001b[1;33m.\u001b[0m\u001b[0mvalues\u001b[0m\u001b[1;33m.\u001b[0m\u001b[0mtolist\u001b[0m\u001b[1;33m(\u001b[0m\u001b[1;33m)\u001b[0m\u001b[1;33m\u001b[0m\u001b[1;33m\u001b[0m\u001b[0m\n\u001b[0;32m      6\u001b[0m     \u001b[0mprint\u001b[0m\u001b[1;33m(\u001b[0m\u001b[0mcol\u001b[0m\u001b[1;33m)\u001b[0m\u001b[1;33m\u001b[0m\u001b[1;33m\u001b[0m\u001b[0m\n",
      "\u001b[1;32mc:\\users\\srorta\\appdata\\local\\conda\\conda\\envs\\py38\\lib\\site-packages\\pandas\\io\\parsers.py\u001b[0m in \u001b[0;36mread_csv\u001b[1;34m(filepath_or_buffer, sep, delimiter, header, names, index_col, usecols, squeeze, prefix, mangle_dupe_cols, dtype, engine, converters, true_values, false_values, skipinitialspace, skiprows, skipfooter, nrows, na_values, keep_default_na, na_filter, verbose, skip_blank_lines, parse_dates, infer_datetime_format, keep_date_col, date_parser, dayfirst, cache_dates, iterator, chunksize, compression, thousands, decimal, lineterminator, quotechar, quoting, doublequote, escapechar, comment, encoding, dialect, error_bad_lines, warn_bad_lines, delim_whitespace, low_memory, memory_map, float_precision)\u001b[0m\n\u001b[0;32m    686\u001b[0m     )\n\u001b[0;32m    687\u001b[0m \u001b[1;33m\u001b[0m\u001b[0m\n\u001b[1;32m--> 688\u001b[1;33m     \u001b[1;32mreturn\u001b[0m \u001b[0m_read\u001b[0m\u001b[1;33m(\u001b[0m\u001b[0mfilepath_or_buffer\u001b[0m\u001b[1;33m,\u001b[0m \u001b[0mkwds\u001b[0m\u001b[1;33m)\u001b[0m\u001b[1;33m\u001b[0m\u001b[1;33m\u001b[0m\u001b[0m\n\u001b[0m\u001b[0;32m    689\u001b[0m \u001b[1;33m\u001b[0m\u001b[0m\n\u001b[0;32m    690\u001b[0m \u001b[1;33m\u001b[0m\u001b[0m\n",
      "\u001b[1;32mc:\\users\\srorta\\appdata\\local\\conda\\conda\\envs\\py38\\lib\\site-packages\\pandas\\io\\parsers.py\u001b[0m in \u001b[0;36m_read\u001b[1;34m(filepath_or_buffer, kwds)\u001b[0m\n\u001b[0;32m    458\u001b[0m \u001b[1;33m\u001b[0m\u001b[0m\n\u001b[0;32m    459\u001b[0m     \u001b[1;32mtry\u001b[0m\u001b[1;33m:\u001b[0m\u001b[1;33m\u001b[0m\u001b[1;33m\u001b[0m\u001b[0m\n\u001b[1;32m--> 460\u001b[1;33m         \u001b[0mdata\u001b[0m \u001b[1;33m=\u001b[0m \u001b[0mparser\u001b[0m\u001b[1;33m.\u001b[0m\u001b[0mread\u001b[0m\u001b[1;33m(\u001b[0m\u001b[0mnrows\u001b[0m\u001b[1;33m)\u001b[0m\u001b[1;33m\u001b[0m\u001b[1;33m\u001b[0m\u001b[0m\n\u001b[0m\u001b[0;32m    461\u001b[0m     \u001b[1;32mfinally\u001b[0m\u001b[1;33m:\u001b[0m\u001b[1;33m\u001b[0m\u001b[1;33m\u001b[0m\u001b[0m\n\u001b[0;32m    462\u001b[0m         \u001b[0mparser\u001b[0m\u001b[1;33m.\u001b[0m\u001b[0mclose\u001b[0m\u001b[1;33m(\u001b[0m\u001b[1;33m)\u001b[0m\u001b[1;33m\u001b[0m\u001b[1;33m\u001b[0m\u001b[0m\n",
      "\u001b[1;32mc:\\users\\srorta\\appdata\\local\\conda\\conda\\envs\\py38\\lib\\site-packages\\pandas\\io\\parsers.py\u001b[0m in \u001b[0;36mread\u001b[1;34m(self, nrows)\u001b[0m\n\u001b[0;32m   1196\u001b[0m     \u001b[1;32mdef\u001b[0m \u001b[0mread\u001b[0m\u001b[1;33m(\u001b[0m\u001b[0mself\u001b[0m\u001b[1;33m,\u001b[0m \u001b[0mnrows\u001b[0m\u001b[1;33m=\u001b[0m\u001b[1;32mNone\u001b[0m\u001b[1;33m)\u001b[0m\u001b[1;33m:\u001b[0m\u001b[1;33m\u001b[0m\u001b[1;33m\u001b[0m\u001b[0m\n\u001b[0;32m   1197\u001b[0m         \u001b[0mnrows\u001b[0m \u001b[1;33m=\u001b[0m \u001b[0m_validate_integer\u001b[0m\u001b[1;33m(\u001b[0m\u001b[1;34m\"nrows\"\u001b[0m\u001b[1;33m,\u001b[0m \u001b[0mnrows\u001b[0m\u001b[1;33m)\u001b[0m\u001b[1;33m\u001b[0m\u001b[1;33m\u001b[0m\u001b[0m\n\u001b[1;32m-> 1198\u001b[1;33m         \u001b[0mret\u001b[0m \u001b[1;33m=\u001b[0m \u001b[0mself\u001b[0m\u001b[1;33m.\u001b[0m\u001b[0m_engine\u001b[0m\u001b[1;33m.\u001b[0m\u001b[0mread\u001b[0m\u001b[1;33m(\u001b[0m\u001b[0mnrows\u001b[0m\u001b[1;33m)\u001b[0m\u001b[1;33m\u001b[0m\u001b[1;33m\u001b[0m\u001b[0m\n\u001b[0m\u001b[0;32m   1199\u001b[0m \u001b[1;33m\u001b[0m\u001b[0m\n\u001b[0;32m   1200\u001b[0m         \u001b[1;31m# May alter columns / col_dict\u001b[0m\u001b[1;33m\u001b[0m\u001b[1;33m\u001b[0m\u001b[1;33m\u001b[0m\u001b[0m\n",
      "\u001b[1;32mc:\\users\\srorta\\appdata\\local\\conda\\conda\\envs\\py38\\lib\\site-packages\\pandas\\io\\parsers.py\u001b[0m in \u001b[0;36mread\u001b[1;34m(self, nrows)\u001b[0m\n\u001b[0;32m   2155\u001b[0m     \u001b[1;32mdef\u001b[0m \u001b[0mread\u001b[0m\u001b[1;33m(\u001b[0m\u001b[0mself\u001b[0m\u001b[1;33m,\u001b[0m \u001b[0mnrows\u001b[0m\u001b[1;33m=\u001b[0m\u001b[1;32mNone\u001b[0m\u001b[1;33m)\u001b[0m\u001b[1;33m:\u001b[0m\u001b[1;33m\u001b[0m\u001b[1;33m\u001b[0m\u001b[0m\n\u001b[0;32m   2156\u001b[0m         \u001b[1;32mtry\u001b[0m\u001b[1;33m:\u001b[0m\u001b[1;33m\u001b[0m\u001b[1;33m\u001b[0m\u001b[0m\n\u001b[1;32m-> 2157\u001b[1;33m             \u001b[0mdata\u001b[0m \u001b[1;33m=\u001b[0m \u001b[0mself\u001b[0m\u001b[1;33m.\u001b[0m\u001b[0m_reader\u001b[0m\u001b[1;33m.\u001b[0m\u001b[0mread\u001b[0m\u001b[1;33m(\u001b[0m\u001b[0mnrows\u001b[0m\u001b[1;33m)\u001b[0m\u001b[1;33m\u001b[0m\u001b[1;33m\u001b[0m\u001b[0m\n\u001b[0m\u001b[0;32m   2158\u001b[0m         \u001b[1;32mexcept\u001b[0m \u001b[0mStopIteration\u001b[0m\u001b[1;33m:\u001b[0m\u001b[1;33m\u001b[0m\u001b[1;33m\u001b[0m\u001b[0m\n\u001b[0;32m   2159\u001b[0m             \u001b[1;32mif\u001b[0m \u001b[0mself\u001b[0m\u001b[1;33m.\u001b[0m\u001b[0m_first_chunk\u001b[0m\u001b[1;33m:\u001b[0m\u001b[1;33m\u001b[0m\u001b[1;33m\u001b[0m\u001b[0m\n",
      "\u001b[1;32mpandas\\_libs\\parsers.pyx\u001b[0m in \u001b[0;36mpandas._libs.parsers.TextReader.read\u001b[1;34m()\u001b[0m\n",
      "\u001b[1;32mpandas\\_libs\\parsers.pyx\u001b[0m in \u001b[0;36mpandas._libs.parsers.TextReader._read_low_memory\u001b[1;34m()\u001b[0m\n",
      "\u001b[1;32mpandas\\_libs\\parsers.pyx\u001b[0m in \u001b[0;36mpandas._libs.parsers.TextReader._read_rows\u001b[1;34m()\u001b[0m\n",
      "\u001b[1;32mpandas\\_libs\\parsers.pyx\u001b[0m in \u001b[0;36mpandas._libs.parsers.TextReader._tokenize_rows\u001b[1;34m()\u001b[0m\n",
      "\u001b[1;32mpandas\\_libs\\parsers.pyx\u001b[0m in \u001b[0;36mpandas._libs.parsers.raise_parser_error\u001b[1;34m()\u001b[0m\n",
      "\u001b[1;31mParserError\u001b[0m: Error tokenizing data. C error: Expected 27 fields in line 7, saw 39\n"
     ]
    }
   ],
   "source": [
    "#test trying to use pandas, not used\n",
    "Geolog_headers = []\n",
    "for file in all_files:\n",
    "    df = pd.read_csv(file, header = [0,1])\n",
    "    col = df.columns.values.tolist()\n",
    "    print(col)\n",
    "    for c in col:\n",
    "        if c not in Geolog_headers:\n",
    "            Geolog_headers.append(c)\n",
    "print(Geolog_headers)"
   ]
  },
  {
   "cell_type": "code",
   "execution_count": 31,
   "metadata": {},
   "outputs": [
    {
     "ename": "ValueError",
     "evalue": "dict contains fields not in fieldnames: None",
     "output_type": "error",
     "traceback": [
      "\u001b[1;31m---------------------------------------------------------------------------\u001b[0m",
      "\u001b[1;31mValueError\u001b[0m                                Traceback (most recent call last)",
      "\u001b[1;32m<ipython-input-31-6b0fe09a192b>\u001b[0m in \u001b[0;36m<module>\u001b[1;34m\u001b[0m\n\u001b[0;32m      8\u001b[0m       \u001b[1;32mfor\u001b[0m \u001b[0mline\u001b[0m \u001b[1;32min\u001b[0m \u001b[0mreader\u001b[0m\u001b[1;33m:\u001b[0m\u001b[1;33m\u001b[0m\u001b[1;33m\u001b[0m\u001b[0m\n\u001b[0;32m      9\u001b[0m         \u001b[1;31m# Comment 3 below\u001b[0m\u001b[1;33m\u001b[0m\u001b[1;33m\u001b[0m\u001b[1;33m\u001b[0m\u001b[0m\n\u001b[1;32m---> 10\u001b[1;33m         \u001b[0mwriter\u001b[0m\u001b[1;33m.\u001b[0m\u001b[0mwriterow\u001b[0m\u001b[1;33m(\u001b[0m\u001b[0mline\u001b[0m\u001b[1;33m)\u001b[0m\u001b[1;33m\u001b[0m\u001b[1;33m\u001b[0m\u001b[0m\n\u001b[0m",
      "\u001b[1;32mc:\\users\\srorta\\appdata\\local\\conda\\conda\\envs\\py38\\lib\\csv.py\u001b[0m in \u001b[0;36mwriterow\u001b[1;34m(self, rowdict)\u001b[0m\n\u001b[0;32m    152\u001b[0m \u001b[1;33m\u001b[0m\u001b[0m\n\u001b[0;32m    153\u001b[0m     \u001b[1;32mdef\u001b[0m \u001b[0mwriterow\u001b[0m\u001b[1;33m(\u001b[0m\u001b[0mself\u001b[0m\u001b[1;33m,\u001b[0m \u001b[0mrowdict\u001b[0m\u001b[1;33m)\u001b[0m\u001b[1;33m:\u001b[0m\u001b[1;33m\u001b[0m\u001b[1;33m\u001b[0m\u001b[0m\n\u001b[1;32m--> 154\u001b[1;33m         \u001b[1;32mreturn\u001b[0m \u001b[0mself\u001b[0m\u001b[1;33m.\u001b[0m\u001b[0mwriter\u001b[0m\u001b[1;33m.\u001b[0m\u001b[0mwriterow\u001b[0m\u001b[1;33m(\u001b[0m\u001b[0mself\u001b[0m\u001b[1;33m.\u001b[0m\u001b[0m_dict_to_list\u001b[0m\u001b[1;33m(\u001b[0m\u001b[0mrowdict\u001b[0m\u001b[1;33m)\u001b[0m\u001b[1;33m)\u001b[0m\u001b[1;33m\u001b[0m\u001b[1;33m\u001b[0m\u001b[0m\n\u001b[0m\u001b[0;32m    155\u001b[0m \u001b[1;33m\u001b[0m\u001b[0m\n\u001b[0;32m    156\u001b[0m     \u001b[1;32mdef\u001b[0m \u001b[0mwriterows\u001b[0m\u001b[1;33m(\u001b[0m\u001b[0mself\u001b[0m\u001b[1;33m,\u001b[0m \u001b[0mrowdicts\u001b[0m\u001b[1;33m)\u001b[0m\u001b[1;33m:\u001b[0m\u001b[1;33m\u001b[0m\u001b[1;33m\u001b[0m\u001b[0m\n",
      "\u001b[1;32mc:\\users\\srorta\\appdata\\local\\conda\\conda\\envs\\py38\\lib\\csv.py\u001b[0m in \u001b[0;36m_dict_to_list\u001b[1;34m(self, rowdict)\u001b[0m\n\u001b[0;32m    147\u001b[0m             \u001b[0mwrong_fields\u001b[0m \u001b[1;33m=\u001b[0m \u001b[0mrowdict\u001b[0m\u001b[1;33m.\u001b[0m\u001b[0mkeys\u001b[0m\u001b[1;33m(\u001b[0m\u001b[1;33m)\u001b[0m \u001b[1;33m-\u001b[0m \u001b[0mself\u001b[0m\u001b[1;33m.\u001b[0m\u001b[0mfieldnames\u001b[0m\u001b[1;33m\u001b[0m\u001b[1;33m\u001b[0m\u001b[0m\n\u001b[0;32m    148\u001b[0m             \u001b[1;32mif\u001b[0m \u001b[0mwrong_fields\u001b[0m\u001b[1;33m:\u001b[0m\u001b[1;33m\u001b[0m\u001b[1;33m\u001b[0m\u001b[0m\n\u001b[1;32m--> 149\u001b[1;33m                 raise ValueError(\"dict contains fields not in fieldnames: \"\n\u001b[0m\u001b[0;32m    150\u001b[0m                                  + \", \".join([repr(x) for x in wrong_fields]))\n\u001b[0;32m    151\u001b[0m         \u001b[1;32mreturn\u001b[0m \u001b[1;33m(\u001b[0m\u001b[0mrowdict\u001b[0m\u001b[1;33m.\u001b[0m\u001b[0mget\u001b[0m\u001b[1;33m(\u001b[0m\u001b[0mkey\u001b[0m\u001b[1;33m,\u001b[0m \u001b[0mself\u001b[0m\u001b[1;33m.\u001b[0m\u001b[0mrestval\u001b[0m\u001b[1;33m)\u001b[0m \u001b[1;32mfor\u001b[0m \u001b[0mkey\u001b[0m \u001b[1;32min\u001b[0m \u001b[0mself\u001b[0m\u001b[1;33m.\u001b[0m\u001b[0mfieldnames\u001b[0m\u001b[1;33m)\u001b[0m\u001b[1;33m\u001b[0m\u001b[1;33m\u001b[0m\u001b[0m\n",
      "\u001b[1;31mValueError\u001b[0m: dict contains fields not in fieldnames: None"
     ]
    }
   ],
   "source": [
    "# Then copy the data\n",
    "with open(\"out2.csv\", \"w\", newline=\"\") as f_out:   # Comment 2 below\n",
    "  writer = csv.DictWriter(f_out, fieldnames=fieldnames)\n",
    "  writer.writeheader()\n",
    "  for filename in all_files:\n",
    "    with open(filename, \"r\", newline=\"\") as f_in:\n",
    "      reader = csv.DictReader(f_in)  # Uses the field names in this file\n",
    "      for line in reader:\n",
    "        # Comment 3 below\n",
    "        writer.writerow(line)"
   ]
  },
  {
   "cell_type": "code",
   "execution_count": null,
   "metadata": {},
   "outputs": [],
   "source": []
  }
 ],
 "metadata": {
  "kernelspec": {
   "display_name": "Python 3",
   "language": "python",
   "name": "python3"
  },
  "language_info": {
   "codemirror_mode": {
    "name": "ipython",
    "version": 3
   },
   "file_extension": ".py",
   "mimetype": "text/x-python",
   "name": "python",
   "nbconvert_exporter": "python",
   "pygments_lexer": "ipython3",
   "version": "3.8.5"
  }
 },
 "nbformat": 4,
 "nbformat_minor": 4
}
