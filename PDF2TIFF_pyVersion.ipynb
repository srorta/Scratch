{
 "cells": [
  {
   "cell_type": "markdown",
   "metadata": {},
   "source": [
    "## PDF2TIFF Converter\n",
    "Before you run this, you need to pip install pdf2image, pip install pillow and have poppler in a folder location that is accessable. "
   ]
  },
  {
   "cell_type": "code",
   "execution_count": 5,
   "metadata": {},
   "outputs": [],
   "source": [
    "from pdf2image import convert_from_path\n",
    "import os, glob\n",
    "import os\n",
    "import tempfile\n",
    "from PIL import Image\n"
   ]
  },
  {
   "cell_type": "markdown",
   "metadata": {},
   "source": [
    "### Converts pdf files in path to tiff. \n",
    "The only downfall of this scirpt is for multi-page pdf document, only the last page is converted to tiff. Need to figure this out. Also, you need to repoint the poppler_path variable to the bin folder in your poppler folder. \n",
    "Tiff files are very large, so maybe converting to png would be better due to the compression. "
   ]
  },
  {
   "cell_type": "code",
   "execution_count": 26,
   "metadata": {},
   "outputs": [],
   "source": [
    "def convert_pdf(path, res,output_path,ext):\n",
    "    all_files = glob.glob(os.path.join(path, \"*.pdf\"))\n",
    "    if not os.path.exists(f\"{output_path}\\\\{ext}\"):\n",
    "        os.makedirs(f\"{output_path}\\\\{ext}\")\n",
    "    for x in all_files:\n",
    "        new = x.replace(\".pdf\",\"\")\n",
    "        xsplt = new.split(\"\\\\\")\n",
    "        print(f\"\\n{xsplt[-1]}\")\n",
    "        # save temp image files in temp dir, delete them after we are finished\n",
    "        with tempfile.TemporaryDirectory() as temp_dir:\n",
    "            # convert pdf to multiple image\n",
    "            images = convert_from_path(x,res, output_folder=temp_dir, poppler_path =r'C:\\Users\\srorta\\poppler-21.03.0\\Library\\bin')\n",
    "            # save images to temporary directory\n",
    "            temp_images = []\n",
    "            for i in range(len(images)):\n",
    "                image_path = f'{temp_dir}_{i}.{ext}'\n",
    "                images[i].save(image_path, ext)\n",
    "                temp_images.append(image_path)\n",
    "            # read images into pillow.Image\n",
    "            imgs = list(map(Image.open, temp_images))\n",
    "        # find minimum width of images\n",
    "        min_img_width = min(i.width for i in imgs)\n",
    "        # find total height of all images\n",
    "        total_height = 0\n",
    "        for i, img in enumerate(imgs):\n",
    "            total_height += imgs[i].height\n",
    "        # create new image object with width and total height\n",
    "        merged_image = Image.new(imgs[0].mode, (min_img_width, total_height))\n",
    "        # paste images together one by one\n",
    "        y = 0\n",
    "        for img in imgs:\n",
    "            merged_image.paste(img, (0, y))\n",
    "            y += img.height\n",
    "        # save merged image\n",
    "        fname = xsplt[-1]+\".\"+ext\n",
    "        merged_image.save(output_path+\"\\\\\"+ext+\"\\\\\"+fname,compression = 'tiff_lzw',optimize=True)\n",
    "        print(f\"{fname} was converted successfully.\")\n",
    "    return \n",
    "\n",
    "def Tiff2Tif(input_path,ext):\n",
    "    if not os.path.exists(f\"{input_path}\\\\tif\"):\n",
    "        os.makedirs(f\"{input_path}\\\\tif\")\n",
    "    all_files = glob.glob(os.path.join(input_path+\"\\\\\"+ext, \"*.tiff\"))\n",
    "    new_path = f\"{input_path}\\\\tif\"\n",
    "    for x in all_files:\n",
    "        pic = Image.open(x)\n",
    "        new = x.replace(\".tiff\",\".tif\")\n",
    "        list = new.split(\"\\\\\")\n",
    "        pic = pic.save(f\"{new_path}\\\\{list[-1]}\")\n",
    "    return print(f\"Files successfully converted to .tif\")"
   ]
  },
  {
   "cell_type": "markdown",
   "metadata": {},
   "source": [
    "Below activate the convert_pdf funciton. Syntax: convert_pdf(Input folder location, resolution, output folder location,file extension). Script accepts \"tiff\",\"jpeg\",\"png\",\"bmp\" It will find all the pdf documents in the input folder location and export them to the output folder location. "
   ]
  },
  {
   "cell_type": "code",
   "execution_count": 27,
   "metadata": {},
   "outputs": [
    {
     "name": "stdout",
     "output_type": "stream",
     "text": [
      "Please input source folder: C:\\Users\\srorta\\Desktop\\test\n",
      "Please input destination folder: C:\\Users\\srorta\\Desktop\\new\n",
      "Resolution size? Ex 100,200,3000 - 100\n",
      "What do you want your file format to be? tiff\n",
      "\n",
      "42329413470300_DIR_SURVEY\n",
      "42329413470300_DIR_SURVEY.tiff was converted successfully.\n",
      "\n",
      "42329413470300_GR_MD_1IN\n",
      "42329413470300_GR_MD_1IN.tiff was converted successfully.\n",
      "\n",
      "42329413470300_GR_MD_5IN\n",
      "42329413470300_GR_MD_5IN.tiff was converted successfully.\n",
      "\n",
      "42329413470300_GR_TVD_!IN\n",
      "42329413470300_GR_TVD_!IN.tiff was converted successfully.\n",
      "\n",
      "42329413470300_GR_TVD_5IN\n",
      "42329413470300_GR_TVD_5IN.tiff was converted successfully.\n",
      "\n",
      "42329413470300_MUD_VERT_1IN_COLOR\n",
      "42329413470300_MUD_VERT_1IN_COLOR.tiff was converted successfully.\n",
      "\n",
      "42329413470300_MUD_VERT_5IN_COLOR\n",
      "42329413470300_MUD_VERT_5IN_COLOR.tiff was converted successfully.\n",
      "\n",
      "CertificateOfCompletion_Data Analytics for Business Professionals\n",
      "CertificateOfCompletion_Data Analytics for Business Professionals.tiff was converted successfully.\n",
      "\n",
      "EBS-OnePager\n",
      "EBS-OnePager.tiff was converted successfully.\n",
      "\n",
      "GTS_2012\n",
      "GTS_2012.tiff was converted successfully.\n",
      "\n",
      "Maana-Q-Architecture\n",
      "Maana-Q-Architecture.tiff was converted successfully.\n",
      "\n",
      "Python Best Practices\n",
      "Python Best Practices.tiff was converted successfully.\n",
      "\n",
      "Python for Everyone_Certificate_07062021\n",
      "Python for Everyone_Certificate_07062021.tiff was converted successfully.\n",
      "Files successfully converted to .tif\n",
      "\n",
      "Press any key to exit.\n"
     ]
    },
    {
     "data": {
      "text/plain": [
       "''"
      ]
     },
     "execution_count": 27,
     "metadata": {},
     "output_type": "execute_result"
    }
   ],
   "source": [
    "source_folder = input(\"Please input source folder: \")\n",
    "dest_folder = input(\"Please input destination folder: \")\n",
    "res = input(\"Resolution size? Ex 100,200,3000 - \")\n",
    "file_format = input(\"What do you want your file format to be? \")\n",
    "convert_pdf(source_folder,res,dest_folder,file_format)\n",
    "Tiff2Tif(dest_folder,file_format)\n",
    "input(\"\\nPress any key to exit.\")"
   ]
  },
  {
   "cell_type": "code",
   "execution_count": null,
   "metadata": {},
   "outputs": [],
   "source": []
  }
 ],
 "metadata": {
  "kernelspec": {
   "display_name": "Python 3",
   "language": "python",
   "name": "python3"
  },
  "language_info": {
   "codemirror_mode": {
    "name": "ipython",
    "version": 3
   },
   "file_extension": ".py",
   "mimetype": "text/x-python",
   "name": "python",
   "nbconvert_exporter": "python",
   "pygments_lexer": "ipython3",
   "version": "3.6.9"
  }
 },
 "nbformat": 4,
 "nbformat_minor": 4
}
