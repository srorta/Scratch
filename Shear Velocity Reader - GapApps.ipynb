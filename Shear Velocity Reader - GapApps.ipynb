{
 "cells": [
  {
   "cell_type": "code",
   "execution_count": 7,
   "metadata": {},
   "outputs": [],
   "source": [
    "import lasio\n",
    "import pandas as pd\n",
    "import os,glob"
   ]
  },
  {
   "cell_type": "code",
   "execution_count": 8,
   "metadata": {},
   "outputs": [],
   "source": [
    "folder = \"C:\\\\Users\\\\srorta\\\\Desktop\\\\gapapps\\\\\""
   ]
  },
  {
   "cell_type": "code",
   "execution_count": 9,
   "metadata": {},
   "outputs": [],
   "source": [
    "all_files = glob.glob(os.path.join(folder, \"*.las\"))"
   ]
  },
  {
   "cell_type": "code",
   "execution_count": 10,
   "metadata": {},
   "outputs": [],
   "source": [
    "shear_measured = ['VS']\n",
    "shear_predicted = [\"VS_XW\"]\n",
    "shear_vel_both = [\"VS\", \"VS_XW\"]"
   ]
  },
  {
   "cell_type": "code",
   "execution_count": 11,
   "metadata": {},
   "outputs": [
    {
     "name": "stdout",
     "output_type": "stream",
     "text": [
      "C:\\Users\\srorta\\Desktop\\gapapps\\bulletwood-1_gapapps.las has shear velocity.\n",
      "C:\\Users\\srorta\\Desktop\\gapapps\\cataback-1_gapapps.las has shear velocity.\n",
      "C:\\Users\\srorta\\Desktop\\gapapps\\Haimara-1_BP1_gapapps.las has shear velocity.\n",
      "C:\\Users\\srorta\\Desktop\\gapapps\\hammerhead-1_bp01_gapapps.las has shear velocity.\n",
      "C:\\Users\\srorta\\Desktop\\gapapps\\hammerhead-1_bp02_gapapps.las has shear velocity.\n",
      "C:\\Users\\srorta\\Desktop\\gapapps\\hammerhead-2_gapapps.las has shear velocity.\n",
      "C:\\Users\\srorta\\Desktop\\gapapps\\hammerhead-3_gapapps.las has shear velocity.\n",
      "C:\\Users\\srorta\\Desktop\\gapapps\\hassa-1_gapapps.las has shear velocity.\n",
      "C:\\Users\\srorta\\Desktop\\gapapps\\liza-1_bp01_gapapps.las has shear velocity.\n",
      "C:\\Users\\srorta\\Desktop\\gapapps\\liza-1_bp02_gapapps.las has shear velocity.\n",
      "C:\\Users\\srorta\\Desktop\\gapapps\\liza-2_gapapps.las has shear velocity.\n",
      "C:\\Users\\srorta\\Desktop\\gapapps\\liza-2_st1_gapapps.las has shear velocity.\n",
      "C:\\Users\\srorta\\Desktop\\gapapps\\liza-3_gapapps.las has shear velocity.\n",
      "C:\\Users\\srorta\\Desktop\\gapapps\\liza-3_st1_gapapps.las has shear velocity.\n",
      "C:\\Users\\srorta\\Desktop\\gapapps\\liza-4_gapapps.las has shear velocity.\n",
      "C:\\Users\\srorta\\Desktop\\gapapps\\liza-5_gapapps.las has shear velocity.\n",
      "C:\\Users\\srorta\\Desktop\\gapapps\\longtail-1_bp01_gapapps.las has shear velocity.\n",
      "C:\\Users\\srorta\\Desktop\\gapapps\\longtail-1_gapapps.las has shear velocity.\n",
      "C:\\Users\\srorta\\Desktop\\gapapps\\longtail-2_gapapps.las has shear velocity.\n",
      "C:\\Users\\srorta\\Desktop\\gapapps\\longtail-3st_gapapps.las has shear velocity.\n",
      "C:\\Users\\srorta\\Desktop\\gapapps\\longtail-3_gapapps.las has shear velocity.\n",
      "C:\\Users\\srorta\\Desktop\\gapapps\\mako-1_bp1_gapapps.las has shear velocity.\n",
      "C:\\Users\\srorta\\Desktop\\gapapps\\mako-1_gapapps.las has shear velocity.\n",
      "C:\\Users\\srorta\\Desktop\\gapapps\\pacora-1_gapapps.las has shear velocity.\n",
      "C:\\Users\\srorta\\Desktop\\gapapps\\payara-1_gapapps.las has shear velocity.\n",
      "C:\\Users\\srorta\\Desktop\\gapapps\\payara-1_st1_gapapps.las has shear velocity.\n",
      "C:\\Users\\srorta\\Desktop\\gapapps\\payara-1_st2_gapapps.las has shear velocity.\n",
      "C:\\Users\\srorta\\Desktop\\gapapps\\payara-2_bp01_gapapps.las has shear velocity.\n",
      "C:\\Users\\srorta\\Desktop\\gapapps\\payara-2_gapapps.las has shear velocity.\n",
      "C:\\Users\\srorta\\Desktop\\gapapps\\pinktail-1oh_gapapps.las has shear velocity.\n",
      "C:\\Users\\srorta\\Desktop\\gapapps\\pinktail-1st_gapapps.las has shear velocity.\n",
      "C:\\Users\\srorta\\Desktop\\gapapps\\pluma-1_bp01_gapapps.las does not have sheared velocity\n",
      "C:\\Users\\srorta\\Desktop\\gapapps\\redtail-1oh_gapapps.las has shear velocity.\n",
      "C:\\Users\\srorta\\Desktop\\gapapps\\redtail-1st_gapapps.las has shear velocity.\n",
      "C:\\Users\\srorta\\Desktop\\gapapps\\sapote-1_gapapps.las has shear velocity.\n",
      "C:\\Users\\srorta\\Desktop\\gapapps\\skipjack-1_gapapps.las has shear velocity.\n",
      "C:\\Users\\srorta\\Desktop\\gapapps\\snoek-1_gapapps.las has shear velocity.\n",
      "C:\\Users\\srorta\\Desktop\\gapapps\\spari-1st1_gapapps.las has shear velocity.\n",
      "C:\\Users\\srorta\\Desktop\\gapapps\\Tanager-1_gapapps.las has shear velocity.\n",
      "C:\\Users\\srorta\\Desktop\\gapapps\\tilapia-1_bp1_gapapps.las has shear velocity.\n",
      "C:\\Users\\srorta\\Desktop\\gapapps\\tilapia-1_gapapps.las has shear velocity.\n",
      "C:\\Users\\srorta\\Desktop\\gapapps\\tripletail-1_bp1_gapapps.las has shear velocity.\n",
      "C:\\Users\\srorta\\Desktop\\gapapps\\tripletail-1_bp2_gapapps.las has shear velocity.\n",
      "C:\\Users\\srorta\\Desktop\\gapapps\\tripletail-1_gapapps.las has shear velocity.\n",
      "C:\\Users\\srorta\\Desktop\\gapapps\\tripletail-2_gapapps.las has shear velocity.\n",
      "C:\\Users\\srorta\\Desktop\\gapapps\\turbot-1_bp01_gapapps.las has shear velocity.\n",
      "C:\\Users\\srorta\\Desktop\\gapapps\\turbot-1_gapapps.las has shear velocity.\n",
      "C:\\Users\\srorta\\Desktop\\gapapps\\turbot-2oh_gapapps.las has shear velocity.\n",
      "C:\\Users\\srorta\\Desktop\\gapapps\\turbot-2st_gapapps.las has shear velocity.\n",
      "C:\\Users\\srorta\\Desktop\\gapapps\\uaru-1_bp1_gapapps.las has shear velocity.\n",
      "C:\\Users\\srorta\\Desktop\\gapapps\\uaru-1_gapapps.las has shear velocity.\n",
      "C:\\Users\\srorta\\Desktop\\gapapps\\uaru-2st_gapapps.las has shear velocity.\n",
      "C:\\Users\\srorta\\Desktop\\gapapps\\uaru-2_gapapps.las has shear velocity.\n",
      "C:\\Users\\srorta\\Desktop\\gapapps\\whiptail-1_gapapps.las has shear velocity.\n",
      "C:\\Users\\srorta\\Desktop\\gapapps\\whiptail-2_gapapps.las has shear velocity.\n",
      "C:\\Users\\srorta\\Desktop\\gapapps\\yellowtail-1_bp1_gapapps.las has shear velocity.\n",
      "C:\\Users\\srorta\\Desktop\\gapapps\\yellowtail-1_gapapps.las has shear velocity.\n",
      "C:\\Users\\srorta\\Desktop\\gapapps\\yellowtail-2oh_gapapps.las has shear velocity.\n",
      "C:\\Users\\srorta\\Desktop\\gapapps\\yellowtail-2st_gapapps.las has shear velocity.\n"
     ]
    }
   ],
   "source": [
    "shear_vel_both_files = []\n",
    "for file in all_files:\n",
    "    curve_list=[]\n",
    "    las = lasio.read(file)\n",
    "    for curve in las.curves:\n",
    "        curve_list.append(curve.mnemonic)\n",
    "    flag = 0\n",
    "    if(any(x in curve_list for x in shear_vel_both)):\n",
    "        flag = 1\n",
    "    if (flag):\n",
    "        print(f\"{file} has shear velocity.\")\n",
    "        shear_vel_both_files.append(file)\n",
    "    else:\n",
    "        print(f\"{file} does not have sheared velocity\")\n",
    "    curve_list.clear()"
   ]
  },
  {
   "cell_type": "code",
   "execution_count": 12,
   "metadata": {},
   "outputs": [
    {
     "name": "stdout",
     "output_type": "stream",
     "text": [
      "C:\\Users\\srorta\\Desktop\\gapapps\\bulletwood-1_gapapps.las has measured shear velocity.\n",
      "C:\\Users\\srorta\\Desktop\\gapapps\\cataback-1_gapapps.las has measured shear velocity.\n",
      "C:\\Users\\srorta\\Desktop\\gapapps\\Haimara-1_BP1_gapapps.las has measured shear velocity.\n",
      "C:\\Users\\srorta\\Desktop\\gapapps\\hammerhead-1_bp01_gapapps.las has measured shear velocity.\n",
      "C:\\Users\\srorta\\Desktop\\gapapps\\hammerhead-1_bp02_gapapps.las has measured shear velocity.\n",
      "C:\\Users\\srorta\\Desktop\\gapapps\\hammerhead-2_gapapps.las has measured shear velocity.\n",
      "C:\\Users\\srorta\\Desktop\\gapapps\\hammerhead-3_gapapps.las has measured shear velocity.\n",
      "C:\\Users\\srorta\\Desktop\\gapapps\\hassa-1_gapapps.las has measured shear velocity.\n",
      "C:\\Users\\srorta\\Desktop\\gapapps\\liza-1_bp01_gapapps.las has measured shear velocity.\n",
      "C:\\Users\\srorta\\Desktop\\gapapps\\liza-1_bp02_gapapps.las has measured shear velocity.\n",
      "C:\\Users\\srorta\\Desktop\\gapapps\\liza-2_gapapps.las has measured shear velocity.\n",
      "C:\\Users\\srorta\\Desktop\\gapapps\\liza-2_st1_gapapps.las has measured shear velocity.\n",
      "C:\\Users\\srorta\\Desktop\\gapapps\\liza-3_gapapps.las has measured shear velocity.\n",
      "C:\\Users\\srorta\\Desktop\\gapapps\\liza-3_st1_gapapps.las has measured shear velocity.\n",
      "C:\\Users\\srorta\\Desktop\\gapapps\\liza-4_gapapps.las has measured shear velocity.\n",
      "C:\\Users\\srorta\\Desktop\\gapapps\\liza-5_gapapps.las has measured shear velocity.\n",
      "C:\\Users\\srorta\\Desktop\\gapapps\\longtail-1_bp01_gapapps.las does not have measured sheared velocity\n",
      "C:\\Users\\srorta\\Desktop\\gapapps\\longtail-1_gapapps.las does not have measured sheared velocity\n",
      "C:\\Users\\srorta\\Desktop\\gapapps\\longtail-2_gapapps.las has measured shear velocity.\n",
      "C:\\Users\\srorta\\Desktop\\gapapps\\longtail-3st_gapapps.las has measured shear velocity.\n",
      "C:\\Users\\srorta\\Desktop\\gapapps\\longtail-3_gapapps.las does not have measured sheared velocity\n",
      "C:\\Users\\srorta\\Desktop\\gapapps\\mako-1_bp1_gapapps.las has measured shear velocity.\n",
      "C:\\Users\\srorta\\Desktop\\gapapps\\mako-1_gapapps.las has measured shear velocity.\n",
      "C:\\Users\\srorta\\Desktop\\gapapps\\pacora-1_gapapps.las has measured shear velocity.\n",
      "C:\\Users\\srorta\\Desktop\\gapapps\\payara-1_gapapps.las has measured shear velocity.\n",
      "C:\\Users\\srorta\\Desktop\\gapapps\\payara-1_st1_gapapps.las has measured shear velocity.\n",
      "C:\\Users\\srorta\\Desktop\\gapapps\\payara-1_st2_gapapps.las has measured shear velocity.\n",
      "C:\\Users\\srorta\\Desktop\\gapapps\\payara-2_bp01_gapapps.las has measured shear velocity.\n",
      "C:\\Users\\srorta\\Desktop\\gapapps\\payara-2_gapapps.las has measured shear velocity.\n",
      "C:\\Users\\srorta\\Desktop\\gapapps\\pinktail-1oh_gapapps.las has measured shear velocity.\n",
      "C:\\Users\\srorta\\Desktop\\gapapps\\pinktail-1st_gapapps.las has measured shear velocity.\n",
      "C:\\Users\\srorta\\Desktop\\gapapps\\pluma-1_bp01_gapapps.las does not have measured sheared velocity\n",
      "C:\\Users\\srorta\\Desktop\\gapapps\\redtail-1oh_gapapps.las has measured shear velocity.\n",
      "C:\\Users\\srorta\\Desktop\\gapapps\\redtail-1st_gapapps.las has measured shear velocity.\n",
      "C:\\Users\\srorta\\Desktop\\gapapps\\sapote-1_gapapps.las has measured shear velocity.\n",
      "C:\\Users\\srorta\\Desktop\\gapapps\\skipjack-1_gapapps.las has measured shear velocity.\n",
      "C:\\Users\\srorta\\Desktop\\gapapps\\snoek-1_gapapps.las has measured shear velocity.\n",
      "C:\\Users\\srorta\\Desktop\\gapapps\\spari-1st1_gapapps.las has measured shear velocity.\n",
      "C:\\Users\\srorta\\Desktop\\gapapps\\Tanager-1_gapapps.las has measured shear velocity.\n",
      "C:\\Users\\srorta\\Desktop\\gapapps\\tilapia-1_bp1_gapapps.las does not have measured sheared velocity\n",
      "C:\\Users\\srorta\\Desktop\\gapapps\\tilapia-1_gapapps.las does not have measured sheared velocity\n",
      "C:\\Users\\srorta\\Desktop\\gapapps\\tripletail-1_bp1_gapapps.las does not have measured sheared velocity\n",
      "C:\\Users\\srorta\\Desktop\\gapapps\\tripletail-1_bp2_gapapps.las does not have measured sheared velocity\n",
      "C:\\Users\\srorta\\Desktop\\gapapps\\tripletail-1_gapapps.las does not have measured sheared velocity\n",
      "C:\\Users\\srorta\\Desktop\\gapapps\\tripletail-2_gapapps.las has measured shear velocity.\n",
      "C:\\Users\\srorta\\Desktop\\gapapps\\turbot-1_bp01_gapapps.las does not have measured sheared velocity\n",
      "C:\\Users\\srorta\\Desktop\\gapapps\\turbot-1_gapapps.las does not have measured sheared velocity\n",
      "C:\\Users\\srorta\\Desktop\\gapapps\\turbot-2oh_gapapps.las has measured shear velocity.\n",
      "C:\\Users\\srorta\\Desktop\\gapapps\\turbot-2st_gapapps.las has measured shear velocity.\n",
      "C:\\Users\\srorta\\Desktop\\gapapps\\uaru-1_bp1_gapapps.las has measured shear velocity.\n",
      "C:\\Users\\srorta\\Desktop\\gapapps\\uaru-1_gapapps.las has measured shear velocity.\n",
      "C:\\Users\\srorta\\Desktop\\gapapps\\uaru-2st_gapapps.las has measured shear velocity.\n",
      "C:\\Users\\srorta\\Desktop\\gapapps\\uaru-2_gapapps.las has measured shear velocity.\n",
      "C:\\Users\\srorta\\Desktop\\gapapps\\whiptail-1_gapapps.las has measured shear velocity.\n",
      "C:\\Users\\srorta\\Desktop\\gapapps\\whiptail-2_gapapps.las has measured shear velocity.\n",
      "C:\\Users\\srorta\\Desktop\\gapapps\\yellowtail-1_bp1_gapapps.las has measured shear velocity.\n",
      "C:\\Users\\srorta\\Desktop\\gapapps\\yellowtail-1_gapapps.las has measured shear velocity.\n",
      "C:\\Users\\srorta\\Desktop\\gapapps\\yellowtail-2oh_gapapps.las has measured shear velocity.\n",
      "C:\\Users\\srorta\\Desktop\\gapapps\\yellowtail-2st_gapapps.las has measured shear velocity.\n"
     ]
    }
   ],
   "source": [
    "shear_vel_measured_files = []\n",
    "for file in all_files:\n",
    "    curve_list=[]\n",
    "    las = lasio.read(file)\n",
    "    for curve in las.curves:\n",
    "        curve_list.append(curve.mnemonic)\n",
    "    flag = 0\n",
    "    if(all(x in curve_list for x in shear_measured)):\n",
    "        flag = 1\n",
    "    if (flag):\n",
    "        print(f\"{file} has measured shear velocity.\")\n",
    "        shear_vel_measured_files.append(file)\n",
    "    else:\n",
    "        print(f\"{file} does not have measured sheared velocity\")\n",
    "    curve_list.clear()\n"
   ]
  },
  {
   "cell_type": "code",
   "execution_count": 13,
   "metadata": {},
   "outputs": [
    {
     "name": "stdout",
     "output_type": "stream",
     "text": [
      "C:\\Users\\srorta\\Desktop\\gapapps\\bulletwood-1_gapapps.las does not have predicted sheared velocity\n",
      "C:\\Users\\srorta\\Desktop\\gapapps\\cataback-1_gapapps.las does not have predicted sheared velocity\n",
      "C:\\Users\\srorta\\Desktop\\gapapps\\Haimara-1_BP1_gapapps.las does not have predicted sheared velocity\n",
      "C:\\Users\\srorta\\Desktop\\gapapps\\hammerhead-1_bp01_gapapps.las does not have predicted sheared velocity\n",
      "C:\\Users\\srorta\\Desktop\\gapapps\\hammerhead-1_bp02_gapapps.las does not have predicted sheared velocity\n",
      "C:\\Users\\srorta\\Desktop\\gapapps\\hammerhead-2_gapapps.las does not have predicted sheared velocity\n",
      "C:\\Users\\srorta\\Desktop\\gapapps\\hammerhead-3_gapapps.las does not have predicted sheared velocity\n",
      "C:\\Users\\srorta\\Desktop\\gapapps\\hassa-1_gapapps.las does not have predicted sheared velocity\n",
      "C:\\Users\\srorta\\Desktop\\gapapps\\liza-1_bp01_gapapps.las does not have predicted sheared velocity\n",
      "C:\\Users\\srorta\\Desktop\\gapapps\\liza-1_bp02_gapapps.las does not have predicted sheared velocity\n",
      "C:\\Users\\srorta\\Desktop\\gapapps\\liza-2_gapapps.las does not have predicted sheared velocity\n",
      "C:\\Users\\srorta\\Desktop\\gapapps\\liza-2_st1_gapapps.las does not have predicted sheared velocity\n",
      "C:\\Users\\srorta\\Desktop\\gapapps\\liza-3_gapapps.las does not have predicted sheared velocity\n",
      "C:\\Users\\srorta\\Desktop\\gapapps\\liza-3_st1_gapapps.las does not have predicted sheared velocity\n",
      "C:\\Users\\srorta\\Desktop\\gapapps\\liza-4_gapapps.las does not have predicted sheared velocity\n",
      "C:\\Users\\srorta\\Desktop\\gapapps\\liza-5_gapapps.las does not have predicted sheared velocity\n",
      "C:\\Users\\srorta\\Desktop\\gapapps\\longtail-1_bp01_gapapps.las has predicted shear velocity.\n",
      "C:\\Users\\srorta\\Desktop\\gapapps\\longtail-1_gapapps.las has predicted shear velocity.\n",
      "C:\\Users\\srorta\\Desktop\\gapapps\\longtail-2_gapapps.las has predicted shear velocity.\n",
      "C:\\Users\\srorta\\Desktop\\gapapps\\longtail-3st_gapapps.las has predicted shear velocity.\n",
      "C:\\Users\\srorta\\Desktop\\gapapps\\longtail-3_gapapps.las has predicted shear velocity.\n",
      "C:\\Users\\srorta\\Desktop\\gapapps\\mako-1_bp1_gapapps.las has predicted shear velocity.\n",
      "C:\\Users\\srorta\\Desktop\\gapapps\\mako-1_gapapps.las has predicted shear velocity.\n",
      "C:\\Users\\srorta\\Desktop\\gapapps\\pacora-1_gapapps.las does not have predicted sheared velocity\n",
      "C:\\Users\\srorta\\Desktop\\gapapps\\payara-1_gapapps.las does not have predicted sheared velocity\n",
      "C:\\Users\\srorta\\Desktop\\gapapps\\payara-1_st1_gapapps.las does not have predicted sheared velocity\n",
      "C:\\Users\\srorta\\Desktop\\gapapps\\payara-1_st2_gapapps.las does not have predicted sheared velocity\n",
      "C:\\Users\\srorta\\Desktop\\gapapps\\payara-2_bp01_gapapps.las does not have predicted sheared velocity\n",
      "C:\\Users\\srorta\\Desktop\\gapapps\\payara-2_gapapps.las does not have predicted sheared velocity\n",
      "C:\\Users\\srorta\\Desktop\\gapapps\\pinktail-1oh_gapapps.las does not have predicted sheared velocity\n",
      "C:\\Users\\srorta\\Desktop\\gapapps\\pinktail-1st_gapapps.las does not have predicted sheared velocity\n",
      "C:\\Users\\srorta\\Desktop\\gapapps\\pluma-1_bp01_gapapps.las does not have predicted sheared velocity\n",
      "C:\\Users\\srorta\\Desktop\\gapapps\\redtail-1oh_gapapps.las does not have predicted sheared velocity\n",
      "C:\\Users\\srorta\\Desktop\\gapapps\\redtail-1st_gapapps.las does not have predicted sheared velocity\n",
      "C:\\Users\\srorta\\Desktop\\gapapps\\sapote-1_gapapps.las does not have predicted sheared velocity\n",
      "C:\\Users\\srorta\\Desktop\\gapapps\\skipjack-1_gapapps.las does not have predicted sheared velocity\n",
      "C:\\Users\\srorta\\Desktop\\gapapps\\snoek-1_gapapps.las has predicted shear velocity.\n",
      "C:\\Users\\srorta\\Desktop\\gapapps\\spari-1st1_gapapps.las does not have predicted sheared velocity\n",
      "C:\\Users\\srorta\\Desktop\\gapapps\\Tanager-1_gapapps.las does not have predicted sheared velocity\n",
      "C:\\Users\\srorta\\Desktop\\gapapps\\tilapia-1_bp1_gapapps.las has predicted shear velocity.\n",
      "C:\\Users\\srorta\\Desktop\\gapapps\\tilapia-1_gapapps.las has predicted shear velocity.\n",
      "C:\\Users\\srorta\\Desktop\\gapapps\\tripletail-1_bp1_gapapps.las has predicted shear velocity.\n",
      "C:\\Users\\srorta\\Desktop\\gapapps\\tripletail-1_bp2_gapapps.las has predicted shear velocity.\n",
      "C:\\Users\\srorta\\Desktop\\gapapps\\tripletail-1_gapapps.las has predicted shear velocity.\n",
      "C:\\Users\\srorta\\Desktop\\gapapps\\tripletail-2_gapapps.las does not have predicted sheared velocity\n",
      "C:\\Users\\srorta\\Desktop\\gapapps\\turbot-1_bp01_gapapps.las has predicted shear velocity.\n",
      "C:\\Users\\srorta\\Desktop\\gapapps\\turbot-1_gapapps.las has predicted shear velocity.\n",
      "C:\\Users\\srorta\\Desktop\\gapapps\\turbot-2oh_gapapps.las does not have predicted sheared velocity\n",
      "C:\\Users\\srorta\\Desktop\\gapapps\\turbot-2st_gapapps.las does not have predicted sheared velocity\n",
      "C:\\Users\\srorta\\Desktop\\gapapps\\uaru-1_bp1_gapapps.las has predicted shear velocity.\n",
      "C:\\Users\\srorta\\Desktop\\gapapps\\uaru-1_gapapps.las has predicted shear velocity.\n",
      "C:\\Users\\srorta\\Desktop\\gapapps\\uaru-2st_gapapps.las has predicted shear velocity.\n",
      "C:\\Users\\srorta\\Desktop\\gapapps\\uaru-2_gapapps.las has predicted shear velocity.\n",
      "C:\\Users\\srorta\\Desktop\\gapapps\\whiptail-1_gapapps.las does not have predicted sheared velocity\n",
      "C:\\Users\\srorta\\Desktop\\gapapps\\whiptail-2_gapapps.las does not have predicted sheared velocity\n",
      "C:\\Users\\srorta\\Desktop\\gapapps\\yellowtail-1_bp1_gapapps.las has predicted shear velocity.\n",
      "C:\\Users\\srorta\\Desktop\\gapapps\\yellowtail-1_gapapps.las does not have predicted sheared velocity\n",
      "C:\\Users\\srorta\\Desktop\\gapapps\\yellowtail-2oh_gapapps.las does not have predicted sheared velocity\n",
      "C:\\Users\\srorta\\Desktop\\gapapps\\yellowtail-2st_gapapps.las does not have predicted sheared velocity\n"
     ]
    }
   ],
   "source": [
    "shear_vel_predicted =[]\n",
    "for file in all_files:\n",
    "    curve_list=[]\n",
    "    las = lasio.read(file)\n",
    "    for curve in las.curves:\n",
    "        curve_list.append(curve.mnemonic)\n",
    "    flag = 0\n",
    "    if(all(x in curve_list for x in shear_predicted)):\n",
    "        flag = 1\n",
    "    if (flag):\n",
    "        print(f\"{file} has predicted shear velocity.\")\n",
    "        shear_vel_predicted.append(file)\n",
    "    else:\n",
    "        print(f\"{file} does not have predicted sheared velocity\")\n",
    "    curve_list.clear()"
   ]
  },
  {
   "cell_type": "code",
   "execution_count": 14,
   "metadata": {},
   "outputs": [
    {
     "name": "stdout",
     "output_type": "stream",
     "text": [
      "48\n",
      "20\n",
      "58\n"
     ]
    }
   ],
   "source": [
    "print(len(shear_vel_measured_files))\n",
    "print(len(shear_vel_predicted))\n",
    "print(len(shear_vel_both_files))"
   ]
  },
  {
   "cell_type": "code",
   "execution_count": 15,
   "metadata": {},
   "outputs": [],
   "source": [
    "measured_df = pd.DataFrame(shear_vel_measured_files)\n",
    "measured_df.to_excel(r\"c:\\users\\srorta\\Desktop\\measured_shear_files.xlsx\")"
   ]
  },
  {
   "cell_type": "code",
   "execution_count": 16,
   "metadata": {},
   "outputs": [],
   "source": [
    "predicted_df = pd.DataFrame(shear_vel_predicted)\n",
    "predicted_df.to_excel(r\"c:\\users\\srorta\\Desktop\\predicted_shear_files.xlsx\")"
   ]
  },
  {
   "cell_type": "code",
   "execution_count": null,
   "metadata": {},
   "outputs": [],
   "source": []
  }
 ],
 "metadata": {
  "kernelspec": {
   "display_name": "Python 3",
   "language": "python",
   "name": "python3"
  },
  "language_info": {
   "codemirror_mode": {
    "name": "ipython",
    "version": 3
   },
   "file_extension": ".py",
   "mimetype": "text/x-python",
   "name": "python",
   "nbconvert_exporter": "python",
   "pygments_lexer": "ipython3",
   "version": "3.8.5"
  }
 },
 "nbformat": 4,
 "nbformat_minor": 4
}
