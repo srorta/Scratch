{
 "cells": [
  {
   "cell_type": "code",
   "execution_count": 1,
   "metadata": {},
   "outputs": [],
   "source": [
    "import base64\n",
    "import pandas as pd\n",
    "import requests\n",
    "import requests_negotiate_sspi\n",
    "from requests_negotiate_sspi import HttpNegotiateAuth\n",
    "from pandas.io.json import json_normalize\n"
   ]
  },
  {
   "cell_type": "code",
   "execution_count": 2,
   "metadata": {},
   "outputs": [],
   "source": [
    "base_url = \"http://hoewap609:50231\"\n",
    "connection = \"P_PET_SAMP\"\n",
    "repository = \"GUYANA_INT\"\n",
    "entityType = \"DbxMarkerCollection\"\n",
    "url = f\"{base_url}/api/studio/petrel/entities/{connection}/{repository}/{entityType}\"\n",
    "url1 = r\"http://hoewap609:50231/api/studio/petrel/entities/P_PET_SAMP/GUYANA_INT/DbxMarkerCollection\"\n",
    "r = requests.get(url1, auth=HttpNegotiateAuth())\n",
    "r.raise_for_status()\n",
    "#r.headers()\n"
   ]
  },
  {
   "cell_type": "code",
   "execution_count": 4,
   "metadata": {},
   "outputs": [
    {
     "data": {
      "text/plain": [
       "{'pageNumber': 0,\n",
       " 'entityType': 'DbxMarkerCollection',\n",
       " 'entityTypeName': 'Well tops folder',\n",
       " 'entityCount': 67,\n",
       " 'entitiesPerPage': 15,\n",
       " 'pageCount': 5,\n",
       " 'firstPageURL': 'http://hoewap609:50231/api/studio/petrel/entities/P_PET_SAMP/GUYANA_INT/DbxMarkerCollection?page=0&entitiesPerPage=15',\n",
       " 'previousPageURL': None,\n",
       " 'nextPageURL': 'http://hoewap609:50231/api/studio/petrel/entities/P_PET_SAMP/GUYANA_INT/DbxMarkerCollection?page=1&entitiesPerPage=15',\n",
       " 'lastPageURL': 'http://hoewap609:50231/api/studio/petrel/entities/P_PET_SAMP/GUYANA_INT/DbxMarkerCollection?page=4&entitiesPerPage=15',\n",
       " 'entityList': [{'guid': '023BEB23D6C143A0AFBE976F427750AB',\n",
       "   'name': 'Legacy Merged Guyana Well Tops',\n",
       "   'entityURL': 'http://hoewap609:50231/api/studio/petrel/entities/P_PET_SAMP/GUYANA_INT/DbxMarkerCollection/023BEB23D6C143A0AFBE976F427750AB'},\n",
       "  {'guid': '0388270532DA4B69A56631FFA561B6E5',\n",
       "   'name': 'GY LITHO XOM Liza-1 EOWR Tops',\n",
       "   'entityURL': 'http://hoewap609:50231/api/studio/petrel/entities/P_PET_SAMP/GUYANA_INT/DbxMarkerCollection/0388270532DA4B69A56631FFA561B6E5'},\n",
       "  {'guid': '04C2B394CB3B4A25A4AE9204B4B82E74',\n",
       "   'name': 'Pre-Salt Seq-Strat Framework',\n",
       "   'entityURL': 'http://hoewap609:50231/api/studio/petrel/entities/P_PET_SAMP/GUYANA_INT/DbxMarkerCollection/04C2B394CB3B4A25A4AE9204B4B82E74'},\n",
       "  {'guid': '06C4A6D5A513470D8C96D937246A937F',\n",
       "   'name': 'Guyana Well Tops-Surface',\n",
       "   'entityURL': 'http://hoewap609:50231/api/studio/petrel/entities/P_PET_SAMP/GUYANA_INT/DbxMarkerCollection/06C4A6D5A513470D8C96D937246A937F'},\n",
       "  {'guid': '094D751E2B9C4DBD816C49F42535112F',\n",
       "   'name': 'Biostrat Tops XOM w/Conf',\n",
       "   'entityURL': 'http://hoewap609:50231/api/studio/petrel/entities/P_PET_SAMP/GUYANA_INT/DbxMarkerCollection/094D751E2B9C4DBD816C49F42535112F'},\n",
       "  {'guid': '0B4C4F0CCB614536ABAFF548F236D4BD',\n",
       "   'name': 'Unified StageTops with Salt',\n",
       "   'entityURL': 'http://hoewap609:50231/api/studio/petrel/entities/P_PET_SAMP/GUYANA_INT/DbxMarkerCollection/0B4C4F0CCB614536ABAFF548F236D4BD'},\n",
       "  {'guid': '0C3636628EA74EA79253771192A8075D',\n",
       "   'name': 'GY-SR Regional Tops TTSimo 03-22-17',\n",
       "   'entityURL': 'http://hoewap609:50231/api/studio/petrel/entities/P_PET_SAMP/GUYANA_INT/DbxMarkerCollection/0C3636628EA74EA79253771192A8075D'},\n",
       "  {'guid': '0E876951598D48A7973D18D9A31A6F3B',\n",
       "   'name': 'CO Composite Log/Report Picks',\n",
       "   'entityURL': 'http://hoewap609:50231/api/studio/petrel/entities/P_PET_SAMP/GUYANA_INT/DbxMarkerCollection/0E876951598D48A7973D18D9A31A6F3B'},\n",
       "  {'guid': '144FF3CDF07B4D73B54B9AEC4C735F7B',\n",
       "   'name': 'Liza Completion Screens and Blanks',\n",
       "   'entityURL': 'http://hoewap609:50231/api/studio/petrel/entities/P_PET_SAMP/GUYANA_INT/DbxMarkerCollection/144FF3CDF07B4D73B54B9AEC4C735F7B'},\n",
       "  {'guid': '152D1047FA2447CDABF5869D29AD7407',\n",
       "   'name': 'Core Labs Biostratigraphy Tops',\n",
       "   'entityURL': 'http://hoewap609:50231/api/studio/petrel/entities/P_PET_SAMP/GUYANA_INT/DbxMarkerCollection/152D1047FA2447CDABF5869D29AD7407'},\n",
       "  {'guid': '18C2D0BF52D54E08AFC6B06D50B2F1DC',\n",
       "   'name': 'Landing FINAL Tops LOG',\n",
       "   'entityURL': 'http://hoewap609:50231/api/studio/petrel/entities/P_PET_SAMP/GUYANA_INT/DbxMarkerCollection/18C2D0BF52D54E08AFC6B06D50B2F1DC'},\n",
       "  {'guid': '22C69A6BB2FA4CC0B29EDF25FBC63172',\n",
       "   'name': 'AAPG Tops',\n",
       "   'entityURL': 'http://hoewap609:50231/api/studio/petrel/entities/P_PET_SAMP/GUYANA_INT/DbxMarkerCollection/22C69A6BB2FA4CC0B29EDF25FBC63172'},\n",
       "  {'guid': '2552C9E3AEB7401EB820315C9A422BCF',\n",
       "   'name': 'Liza Area Operational Tops',\n",
       "   'entityURL': 'http://hoewap609:50231/api/studio/petrel/entities/P_PET_SAMP/GUYANA_INT/DbxMarkerCollection/2552C9E3AEB7401EB820315C9A422BCF'},\n",
       "  {'guid': '271824835852448984A839BCC7292267',\n",
       "   'name': 'EOD_Standard_ResInterval_Tops',\n",
       "   'entityURL': 'http://hoewap609:50231/api/studio/petrel/entities/P_PET_SAMP/GUYANA_INT/DbxMarkerCollection/271824835852448984A839BCC7292267'},\n",
       "  {'guid': '3072B532617B48B3B5CF14339AF825B6',\n",
       "   'name': 'EPR Formation tops',\n",
       "   'entityURL': 'http://hoewap609:50231/api/studio/petrel/entities/P_PET_SAMP/GUYANA_INT/DbxMarkerCollection/3072B532617B48B3B5CF14339AF825B6'}]}"
      ]
     },
     "execution_count": 4,
     "metadata": {},
     "output_type": "execute_result"
    }
   ],
   "source": [
    "r.status_code\n",
    "r.json()"
   ]
  },
  {
   "cell_type": "code",
   "execution_count": null,
   "metadata": {},
   "outputs": [],
   "source": []
  }
 ],
 "metadata": {
  "kernelspec": {
   "display_name": "Python 3",
   "language": "python",
   "name": "python3"
  },
  "language_info": {
   "codemirror_mode": {
    "name": "ipython",
    "version": 3
   },
   "file_extension": ".py",
   "mimetype": "text/x-python",
   "name": "python",
   "nbconvert_exporter": "python",
   "pygments_lexer": "ipython3",
   "version": "3.8.5"
  }
 },
 "nbformat": 4,
 "nbformat_minor": 4
}
