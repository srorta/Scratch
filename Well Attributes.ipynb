{
 "cells": [
  {
   "cell_type": "code",
   "execution_count": 1,
   "metadata": {},
   "outputs": [],
   "source": [
    "import pandas as pd"
   ]
  },
  {
   "cell_type": "code",
   "execution_count": 12,
   "metadata": {},
   "outputs": [],
   "source": [
    "ihs = pd.read_csv(r\"H:\\WellAttributes\\IHS.csv\")\n",
    "fg_studio = pd.read_excel(r\"H:\\WellAttributes\\French_Guiana_Studio.xlsx\")\n",
    "guy_studio = pd.read_excel(r\"H:\\WellAttributes\\Guyana_Studio.xlsx\")\n",
    "sur_studio = pd.read_excel(r\"H:\\WellAttributes\\Suriname_Studio.xlsx\")\n",
    "wellview = pd.read_excel(r\"H:\\WellAttributes\\Wellview_Guyana.xlsx\")"
   ]
  },
  {
   "cell_type": "code",
   "execution_count": 36,
   "metadata": {},
   "outputs": [
    {
     "data": {
      "text/plain": [
       "array(['Suriname', 'French Guiana', 'Guyana',\n",
       "       'North Atlantic Ocean Region'], dtype=object)"
      ]
     },
     "execution_count": 36,
     "metadata": {},
     "output_type": "execute_result"
    }
   ],
   "source": [
    "ihs.Country.unique()"
   ]
  },
  {
   "cell_type": "code",
   "execution_count": 44,
   "metadata": {},
   "outputs": [
    {
     "name": "stdout",
     "output_type": "stream",
     "text": [
      "21\n"
     ]
    }
   ],
   "source": [
    "ihs_fg = ihs.query('Country ==\"French Guiana\"')\n",
    "ihs_guy = ihs.query('Country == \"Guyana\"')\n",
    "ihs_sur = ihs.query('Country== \"Suriname\"')\n",
    "ihs_int = ihs.query('Country==\"North Atlantic Ocean Region\"')\n",
    "print(len(ihs_int))\n",
    "ihs_int.to_excel(r\"H:\\WellAttributes\\ihs_int.xlsx\")"
   ]
  },
  {
   "cell_type": "code",
   "execution_count": 41,
   "metadata": {},
   "outputs": [
    {
     "name": "stdout",
     "output_type": "stream",
     "text": [
      "206\n",
      "13\n",
      "956\n",
      "139\n",
      "13\n",
      "967\n"
     ]
    }
   ],
   "source": [
    "print(len(guy_studio))\n",
    "print(len(fg_studio))\n",
    "print(len(sur_studio))\n",
    "print(len(ihs_guy))\n",
    "print(len(ihs_fg))\n",
    "print(len(ihs_sur))"
   ]
  },
  {
   "cell_type": "code",
   "execution_count": 42,
   "metadata": {},
   "outputs": [],
   "source": [
    "fg_studio_ihs_merge = pd.merge(fg_studio,ihs_fg,how='left',left_on=[\"UWI\"], right_on=[\"UWI\"])\n",
    "guy_studio_ihs_merge = pd.merge(guy_studio,ihs_guy, how='left',left_on=[\"UWI\"], right_on=[\"UWI\"])\n",
    "sur_studio_ihs_merge = pd.merge(sur_studio,ihs_sur,how='left',left_on=[\"UWI\"],right_on=[\"UWI\"])\n",
    "sur_studio_ihs_merge.to_excel(r\"H:\\WellAttributes\\sur_studio_ihs_merge.xlsx\")\n",
    "guy_studio_ihs_merge.to_excel(r\"H:\\WellAttributes\\guy_studio_ihs_merge.xlsx\")\n",
    "fg_studio_ihs_merge.to_excel(r\"H:\\WellAttributes\\fg_studio_ihs_merge.xlsx\")"
   ]
  },
  {
   "cell_type": "code",
   "execution_count": 50,
   "metadata": {},
   "outputs": [],
   "source": [
    "fg_interim = pd.read_excel(r\"H:\\WellAttributes\\fg_studio_ihs_merge.xlsx\")\n",
    "guy_interim = pd.read_excel(r\"H:\\WellAttributes\\guy_studio_ihs_merge.xlsx\")\n",
    "sur_interim = pd.read_excel(r\"H:\\WellAttributes\\sur_studio_ihs_merge.xlsx\")"
   ]
  },
  {
   "cell_type": "code",
   "execution_count": 51,
   "metadata": {},
   "outputs": [],
   "source": [
    "Guy_Int_Well_Attributes = guy_interim.append([fg_interim,sur_interim])\n",
    "Guy_Int_Well_Attributes.to_excel(r\"H:\\WellAttributes\\Guy_Int_Final_Well_Attributes.xlsx\")"
   ]
  },
  {
   "cell_type": "code",
   "execution_count": 11,
   "metadata": {},
   "outputs": [],
   "source": []
  },
  {
   "cell_type": "code",
   "execution_count": 12,
   "metadata": {},
   "outputs": [],
   "source": []
  },
  {
   "cell_type": "code",
   "execution_count": 14,
   "metadata": {},
   "outputs": [],
   "source": [
    "merge_table_new = pd.merge(new_table,wellview,how=\"left\",left_on=[\"UWI\"],right_on=[\"Wellbore Identifier\"])\n",
    "merge_table_new.to_excel(r\"H:\\merge_table_new.xlsx\")"
   ]
  },
  {
   "cell_type": "code",
   "execution_count": null,
   "metadata": {},
   "outputs": [],
   "source": []
  }
 ],
 "metadata": {
  "kernelspec": {
   "display_name": "ArcGISPro",
   "language": "Python",
   "name": "python3"
  },
  "language_info": {
   "file_extension": ".py",
   "name": "python",
   "version": "3"
  }
 },
 "nbformat": 4,
 "nbformat_minor": 4
}
