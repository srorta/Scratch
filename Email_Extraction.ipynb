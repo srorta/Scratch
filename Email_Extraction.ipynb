{
 "cells": [
  {
   "cell_type": "code",
   "execution_count": 1,
   "metadata": {},
   "outputs": [],
   "source": [
    "import extract_msg\n",
    "import pandas as pd\n",
    "import re\n",
    "import partition"
   ]
  },
  {
   "cell_type": "code",
   "execution_count": 2,
   "metadata": {},
   "outputs": [],
   "source": [
    "email = r\"C:\\Users\\srorta\\Desktop\\Email_Test\\Work Transition Q&A.msg\"\n",
    "email1 = r\"C:\\Users\\srorta\\Desktop\\Email_Test\\2019-08-28_Canje Seismic Volumes and Petrel Project.msg\""
   ]
  },
  {
   "cell_type": "code",
   "execution_count": 3,
   "metadata": {},
   "outputs": [],
   "source": [
    "msg = extract_msg.Message(email1)"
   ]
  },
  {
   "cell_type": "code",
   "execution_count": 4,
   "metadata": {},
   "outputs": [
    {
     "data": {
      "text/plain": [
       "str"
      ]
     },
     "execution_count": 4,
     "metadata": {},
     "output_type": "execute_result"
    }
   ],
   "source": [
    "msg_sender = msg.sender\n",
    "msg_date = msg.date\n",
    "msg_subj = msg.subject\n",
    "msg_message = msg.body\n",
    "type(msg.body)"
   ]
  },
  {
   "cell_type": "code",
   "execution_count": 5,
   "metadata": {},
   "outputs": [
    {
     "name": "stdout",
     "output_type": "stream",
     "text": [
      "Sender: \"ShareFile Notifications (No Reply)\" <noreply@sf-notifications.com>\n",
      "Sent On: Thu, 29 Aug 2019 16:24:46 -0500\n",
      "Subject: ShareFile Activity Notification\n",
      "Body: \t\r\n",
      "\r\n",
      "<https://exxonmobil.sharefile.com/styles/images/862fb740-2f8a-4837-9074-\r\n",
      "7bd7968f9872.png> \t\t\r\n",
      "\t\r\n",
      "\t\r\n",
      "\t\r\n",
      "Notification Summary\r\n",
      "\r\n",
      "\r\n",
      "Below is a summary of upload and download activity on folders for which\r\n",
      "you've chosen to be notified.\r\n",
      "\r\n",
      "\r\n",
      "Uploads\r\n",
      "\r\n",
      "\t\r\n",
      "Guyana_Canje > 2019_08_29 Horizon exports\r\n",
      "<https://exxonmobil.sharefile.com/f/fo8f2270-693e-4a3d-bb1b-c81418b9776a\r\n",
      "> \t \r\n",
      " \t\r\n",
      "Name: Shallow Hazard Surfaces.zip\t \r\n",
      "Size: 97.51 MB • Created: 2019/08/29 2:34p\t \r\n",
      "Creator: Worth Cotton [worth.b.cotton@exxonmobil.com] (ExxonMobil)\r\n",
      "Name: Prospect Surfaces.zip\t \r\n",
      "Size: 18.54 MB • Created: 2019/08/29 2:34p\t \r\n",
      "Creator: Worth Cotton [worth.b.cotton@exxonmobil.com] (ExxonMobil)\r\n",
      "Download These Items\r\n",
      "<https://exxonmobil.sharefile.com/d/536eb3083f614b71>\r\n",
      "<https://exxonmobil.sharefile.com/d/536eb3083f614b71> \t \r\n",
      "\r\n",
      "Downloads\r\n",
      "\r\n",
      "\t\r\n",
      "Guyana_Canje > 2019_08_29 Horizon exports\r\n",
      "<https://exxonmobil.sharefile.com/f/fo8f2270-693e-4a3d-bb1b-c81418b9776a\r\n",
      "> \t \r\n",
      " \t\r\n",
      "Name: Prospect Surfaces.zip\t \r\n",
      "Size: 18.54 MB • Downloaded: 2019/08/29 3:42p\t \r\n",
      "User: Jan Baur [jan.baur@total.com] (Total)\t \r\n",
      " \t\r\n",
      "Name: Shallow Hazard Surfaces.zip\t \r\n",
      "Size: 97.51 MB • Downloaded: 2019/08/29 3:42p\t \r\n",
      "User: Jan Baur [jan.baur@total.com] (Total)\t \r\n",
      " \t\r\n",
      "Name: Prospect Surfaces.zip\t \r\n",
      "Size: 18.54 MB • Downloaded: 2019/08/29 3:09p\t \r\n",
      "User: Denis Pieters [dpfarmers@aol.com] (Mid Atlantic)\t \r\n",
      "\r\n",
      "\t\r\n",
      "Guyana_Canje\r\n",
      "<https://exxonmobil.sharefile.com/f/fo49538e-7ed3-4109-bcec-8ada35ee6437\r\n",
      "> \t \r\n",
      " \t\r\n",
      "Name: IP3_Velocity_forPartners.pdf\t \r\n",
      "Size: 809.85 KB • Downloaded: 2019/08/29 11:19a\t \r\n",
      "User: Dick Boyce [dick@jhiassociates.com] (JHI)\t \r\n",
      " \t\r\n",
      "Name: Sept2019_Partner_Petrel_Project_v175.zip\t \r\n",
      "Size: 556.84 MB • Downloaded: 2019/08/29 11:17a\t \r\n",
      "User: Dick Boyce [dick@jhiassociates.com] (JHI)\t \r\n",
      " \t\r\n",
      "Name: canje_cgg18_2x4__fpsdm_ppseis_ppg_cut_z__depth_ZGY.zip\t \r\n",
      "Size: 16.13 MB • Downloaded: 2019/08/29 11:14a\t \r\n",
      "User: Jan Baur [jan.baur@total.com] (Total)\t \r\n",
      " \t\r\n",
      "Name: canje_cgg18_2x4__fpsdm_ppseis_ppg_cut_z__depth_SEGY.zip\t \r\n",
      "Size: 1.00 GB • Downloaded: 2019/08/29 11:14a\t \r\n",
      "User: Jan Baur [jan.baur@total.com] (Total)\t \r\n",
      " \t\r\n",
      "Name: canje_cgg18_2x4__fpsdm_delta_vint_cut_z__depth_SEGY.zip\t \r\n",
      "Size: 4.09 GB • Downloaded: 2019/08/29 11:14a\t \r\n",
      "User: Jan Baur [jan.baur@total.com] (Total)\t \r\n",
      " \t\r\n",
      "Name: canje_cgg18_2x4__fpsdm_delta_vint_cut_z__depth_ZGY.zip\t \r\n",
      "Size: 2.06 GB • Downloaded: 2019/08/29 11:14a\t \r\n",
      "User: Jan Baur [jan.baur@total.com] (Total)\t \r\n",
      " \t\r\n",
      "Name: Sept2019_Partner_Petrel_Project_v175.zip\t \r\n",
      "Size: 556.84 MB • Downloaded: 2019/08/29 11:14a\t \r\n",
      "User: Jan Baur [jan.baur@total.com] (Total)\t \r\n",
      " \t\r\n",
      "Name: canje_cgg18_2x4__fpsdm_ppseis_ppg_cut_z__depth_ZGY.zip\t \r\n",
      "Size: 16.13 MB • Downloaded: 2019/08/29 10:11a\t \r\n",
      "User: Dick Boyce [dick@jhiassociates.com] (JHI)\t \r\n",
      " \t\r\n",
      "Name: canje_cgg18_2x4__fpsdm_ppseis_ppg_cut_z__depth_SEGY.zip\t \r\n",
      "Size: 1.00 GB • Downloaded: 2019/08/29 10:02a\t \r\n",
      "User: Dick Boyce [dick@jhiassociates.com] (JHI)\t \r\n",
      " \t\r\n",
      "Name: canje_cgg18_2x4__fpsdm_delta_vint_cut_z__depth_ZGY.zip\t \r\n",
      "Size: 2.06 GB • Downloaded: 2019/08/29 9:31a\t \r\n",
      "User: Dick Boyce [dick@jhiassociates.com] (JHI)\t \r\n",
      " \t\r\n",
      "Name: canje_cgg18_2x4__fpsdm_delta_vint_cut_z__depth_SEGY.zip\t \r\n",
      "Size: 4.09 GB • Downloaded: 2019/08/29 8:56a\t \r\n",
      "User: Dick Boyce [dick@jhiassociates.com] (JHI)\t \r\n",
      " \t\r\n",
      "Name: IP3_Velocity_forPartners.pdf\t \r\n",
      "Size: 809.85 KB • Downloaded: 2019/08/28 5:13p\t \r\n",
      "User: Jan Baur [jan.baur@total.com] (Total)\t \r\n",
      " \t\r\n",
      "Name: Sept2019_Partner_Petrel_Project_v175.zip\t \r\n",
      "Size: 556.84 MB • Downloaded: 2019/08/28 5:13p\t \r\n",
      "User: Jan Baur [jan.baur@total.com] (Total)\t \r\n",
      " \t\r\n",
      "Name: Sept2019_Partner_Petrel_Project_v175.zip\t \r\n",
      "Size: 556.84 MB • Downloaded: 2019/08/28 4:34p\t \r\n",
      "User: Dick Boyce [dick@jhiassociates.com] (JHI)\t \r\n",
      "\t\r\n",
      "\t\tDates are displayed in UTC -6\r\n",
      "\r\n",
      "\t\r\n",
      "\t\r\n",
      "\tClick here to change how often ShareFile sends emails\r\n",
      "<https://exxonmobil.sharefile.com/notifications> \r\n",
      "\r\n",
      "\t\r\n",
      "\t\r\n",
      "\tPowered By Citrix ShareFile 2019\r\n",
      "<http://www.sharefile.com/?src=emailfooter>  \t\t\r\n",
      "\t\r\n",
      "\t\r\n",
      "\r\n",
      "<http://email.sf-notifications.com/wf/open?upn=oQVZcYEkOcGZstyj5Uv6uX2YX\r\n",
      "wKAmVIV4pq2oEi7vExdM5YcTSHebszubIoEYAKRXCbhEaNuuqIEl7F6vFc6otefz3Mk-2FEF\r\n",
      "rI6c4HC1mOvia0CuxF-2FbcNjjamuh6RlEejTVfKs0AapkBZF24Wq-2FAhp5bg1OHCr3Uaxl\r\n",
      "Vt1FpvqUiJjW-2FkPpfHRXMOckXoTaFBGtCHsyABLYpLnYWVRGqdimaBYKH8xsve3Dt-2Bws\r\n",
      "2-2FmsTf6Lfflg5pyIkAxaYjpo46cKZuQikvOZiTFxXFV0yev2hdfoqpED1vIDL2s6kkDw-3\r\n",
      "D> \r\n",
      "\n"
     ]
    }
   ],
   "source": [
    "print(f\"Sender: {msg_sender}\")\n",
    "print(f\"Sent On: {msg.date}\")\n",
    "print(f\"Subject: {msg_subj}\")\n",
    "print(f\"Body: {msg_message}\")"
   ]
  },
  {
   "cell_type": "code",
   "execution_count": 6,
   "metadata": {},
   "outputs": [
    {
     "name": "stdout",
     "output_type": "stream",
     "text": [
      " Guyana_Canje > 2019_08_29 Horizon exports <https://exxonmobil.sharefile.com/f/fo8f2270-693e-4a3d-bb1b-c81418b9776a > Name: Prospect Surfaces.zip Size: 18.54 MB • Downloaded: 2019/08/29 3:42p User: Jan Baur [jan.baur@total.com] (Total) Name: Shallow Hazard Surfaces.zip Size: 97.51 MB • Downloaded: 2019/08/29 3:42p User: Jan Baur [jan.baur@total.com] (Total) Name: Prospect Surfaces.zip Size: 18.54 MB • Downloaded: 2019/08/29 3:09p User: Denis Pieters [dpfarmers@aol.com] (Mid Atlantic) Guyana_Canje <https://exxonmobil.sharefile.com/f/fo49538e-7ed3-4109-bcec-8ada35ee6437 > Name: IP3_Velocity_forPartners.pdf Size: 809.85 KB • Downloaded: 2019/08/29 11:19a User: Dick Boyce [dick@jhiassociates.com] (JHI) Name: Sept2019_Partner_Petrel_Project_v175.zip Size: 556.84 MB • Downloaded: 2019/08/29 11:17a User: Dick Boyce [dick@jhiassociates.com] (JHI) Name: canje_cgg18_2x4__fpsdm_ppseis_ppg_cut_z__depth_ZGY.zip Size: 16.13 MB • Downloaded: 2019/08/29 11:14a User: Jan Baur [jan.baur@total.com] (Total) Name: canje_cgg18_2x4__fpsdm_ppseis_ppg_cut_z__depth_SEGY.zip Size: 1.00 GB • Downloaded: 2019/08/29 11:14a User: Jan Baur [jan.baur@total.com] (Total) Name: canje_cgg18_2x4__fpsdm_delta_vint_cut_z__depth_SEGY.zip Size: 4.09 GB • Downloaded: 2019/08/29 11:14a User: Jan Baur [jan.baur@total.com] (Total) Name: canje_cgg18_2x4__fpsdm_delta_vint_cut_z__depth_ZGY.zip Size: 2.06 GB • Downloaded: 2019/08/29 11:14a User: Jan Baur [jan.baur@total.com] (Total) Name: Sept2019_Partner_Petrel_Project_v175.zip Size: 556.84 MB • Downloaded: 2019/08/29 11:14a User: Jan Baur [jan.baur@total.com] (Total) Name: canje_cgg18_2x4__fpsdm_ppseis_ppg_cut_z__depth_ZGY.zip Size: 16.13 MB • Downloaded: 2019/08/29 10:11a User: Dick Boyce [dick@jhiassociates.com] (JHI) Name: canje_cgg18_2x4__fpsdm_ppseis_ppg_cut_z__depth_SEGY.zip Size: 1.00 GB • Downloaded: 2019/08/29 10:02a User: Dick Boyce [dick@jhiassociates.com] (JHI) Name: canje_cgg18_2x4__fpsdm_delta_vint_cut_z__depth_ZGY.zip Size: 2.06 GB • Downloaded: 2019/08/29 9:31a User: Dick Boyce [dick@jhiassociates.com] (JHI) Name: canje_cgg18_2x4__fpsdm_delta_vint_cut_z__depth_SEGY.zip Size: 4.09 GB • Downloaded: 2019/08/29 8:56a User: Dick Boyce [dick@jhiassociates.com] (JHI) Name: IP3_Velocity_forPartners.pdf Size: 809.85 KB • Downloaded: 2019/08/28 5:13p User: Jan Baur [jan.baur@total.com] (Total) Name: Sept2019_Partner_Petrel_Project_v175.zip Size: 556.84 MB • Downloaded: 2019/08/28 5:13p User: Jan Baur [jan.baur@total.com] (Total) Name: Sept2019_Partner_Petrel_Project_v175.zip Size: 556.84 MB • Downloaded: 2019/08/28 4:34p User: Dick Boyce [dick@jhiassociates.com] (JHI) \n"
     ]
    }
   ],
   "source": [
    "test_parse = \" \".join(msg_message.split())\n",
    "string_list = [string.strip() for string in test_parse.splitlines()]\n",
    "#join() converts from list to string\n",
    "upload_info = re.findall(r'Uploads(.*?)Downloads',test_parse)\n",
    "download_info = \" \".join(re.findall(r'Downloads(.*?)Dates',test_parse))\n",
    "print(download_info)"
   ]
  },
  {
   "cell_type": "code",
   "execution_count": 7,
   "metadata": {
    "scrolled": true
   },
   "outputs": [
    {
     "name": "stdout",
     "output_type": "stream",
     "text": [
      "[' Prospect Surfaces.zip ', ' Shallow Hazard Surfaces.zip ', ' Prospect Surfaces.zip ', ' IP3_Velocity_forPartners.pdf ', ' Sept2019_Partner_Petrel_Project_v175.zip ', ' canje_cgg18_2x4__fpsdm_ppseis_ppg_cut_z__depth_ZGY.zip ', ' canje_cgg18_2x4__fpsdm_ppseis_ppg_cut_z__depth_SEGY.zip ', ' canje_cgg18_2x4__fpsdm_delta_vint_cut_z__depth_SEGY.zip ', ' canje_cgg18_2x4__fpsdm_delta_vint_cut_z__depth_ZGY.zip ', ' Sept2019_Partner_Petrel_Project_v175.zip ', ' canje_cgg18_2x4__fpsdm_ppseis_ppg_cut_z__depth_ZGY.zip ', ' canje_cgg18_2x4__fpsdm_ppseis_ppg_cut_z__depth_SEGY.zip ', ' canje_cgg18_2x4__fpsdm_delta_vint_cut_z__depth_ZGY.zip ', ' canje_cgg18_2x4__fpsdm_delta_vint_cut_z__depth_SEGY.zip ', ' IP3_Velocity_forPartners.pdf ', ' Sept2019_Partner_Petrel_Project_v175.zip ', ' Sept2019_Partner_Petrel_Project_v175.zip ']\n",
      "17\n",
      "[' Jan Baur [jan.baur@total.com] (Total) ', ' Jan Baur [jan.baur@total.com] (Total) ', ' Denis Pieters [dpfarmers@aol.com] (Mid Atlantic) Guyana_Canje <https://exxonmobil.sharefile.com/f/fo49538e-7ed3-4109-bcec-8ada35ee6437 > ', ' Dick Boyce [dick@jhiassociates.com] (JHI) ', ' Dick Boyce [dick@jhiassociates.com] (JHI) ', ' Jan Baur [jan.baur@total.com] (Total) ', ' Jan Baur [jan.baur@total.com] (Total) ', ' Jan Baur [jan.baur@total.com] (Total) ', ' Jan Baur [jan.baur@total.com] (Total) ', ' Jan Baur [jan.baur@total.com] (Total) ', ' Dick Boyce [dick@jhiassociates.com] (JHI) ', ' Dick Boyce [dick@jhiassociates.com] (JHI) ', ' Dick Boyce [dick@jhiassociates.com] (JHI) ', ' Dick Boyce [dick@jhiassociates.com] (JHI) ', ' Jan Baur [jan.baur@total.com] (Total) ', ' Jan Baur [jan.baur@total.com] (Total) ']\n",
      "16\n",
      "[' 2019/08/29 3:42p ', ' 2019/08/29 3:42p ', ' 2019/08/29 3:09p ', ' 2019/08/29 11:19a ', ' 2019/08/29 11:17a ', ' 2019/08/29 11:14a ', ' 2019/08/29 11:14a ', ' 2019/08/29 11:14a ', ' 2019/08/29 11:14a ', ' 2019/08/29 11:14a ', ' 2019/08/29 10:11a ', ' 2019/08/29 10:02a ', ' 2019/08/29 9:31a ', ' 2019/08/29 8:56a ', ' 2019/08/28 5:13p ', ' 2019/08/28 5:13p ', ' 2019/08/28 4:34p ']\n",
      "17\n"
     ]
    }
   ],
   "source": [
    "file_name = re.findall(r'Name:(.*?)Size:',download_info)\n",
    "user = re.findall(r'User:(.*?)Name:',download_info)\n",
    "download_date = re.findall(r'Downloaded:(.*?)User:',download_info)\n",
    "\n",
    "\n",
    "f = [\"\".join(item.split()) for item in file_name]\n",
    "u = [\"\".join(item.split()) for item in user]\n",
    "d = [\"\".join(item.split()) for item in download_date]\n",
    "\n",
    "print(file_name)\n",
    "print(len(file_name))\n",
    "print(user)\n",
    "print(len(user))\n",
    "print(download_date)\n",
    "print(len(download_date))"
   ]
  },
  {
   "cell_type": "code",
   "execution_count": 8,
   "metadata": {},
   "outputs": [
    {
     "name": "stdout",
     "output_type": "stream",
     "text": [
      "['jan.baur@total.com', 'jan.baur@total.com', 'dpfarmers@aol.com', 'dick@jhiassociates.com', 'dick@jhiassociates.com', 'jan.baur@total.com', 'jan.baur@total.com', 'jan.baur@total.com', 'jan.baur@total.com', 'jan.baur@total.com', 'dick@jhiassociates.com', 'dick@jhiassociates.com', 'dick@jhiassociates.com', 'dick@jhiassociates.com', 'jan.baur@total.com', 'jan.baur@total.com', 'dick@jhiassociates.com']\n"
     ]
    },
    {
     "data": {
      "text/plain": [
       "17"
      ]
     },
     "execution_count": 8,
     "metadata": {},
     "output_type": "execute_result"
    }
   ],
   "source": [
    "email = re.findall(r'[\\w\\.-]+@[\\w\\.-]+',download_info)\n",
    "print(email)\n",
    "len(email)"
   ]
  },
  {
   "cell_type": "code",
   "execution_count": 9,
   "metadata": {},
   "outputs": [
    {
     "name": "stdout",
     "output_type": "stream",
     "text": [
      "['(Total)', '(Total)', '(Mid Atlantic)', '(JHI)', '(JHI)', '(Total)', '(Total)', '(Total)', '(Total)', '(Total)', '(JHI)', '(JHI)', '(JHI)', '(JHI)', '(Total)', '(Total)', '(JHI)']\n"
     ]
    },
    {
     "data": {
      "text/plain": [
       "17"
      ]
     },
     "execution_count": 9,
     "metadata": {},
     "output_type": "execute_result"
    }
   ],
   "source": [
    "Company = re.findall(r'\\(.*?\\)',download_info)\n",
    "print(Company)\n",
    "len(Company)"
   ]
  },
  {
   "cell_type": "code",
   "execution_count": 10,
   "metadata": {},
   "outputs": [],
   "source": [
    "df = pd.DataFrame(list(zip(file_name,user,download_date,email, Company)),columns =['File Name', 'Download User', 'Date Downloaded','Email','Company'])"
   ]
  },
  {
   "cell_type": "code",
   "execution_count": 11,
   "metadata": {},
   "outputs": [],
   "source": [
    "df.to_excel(r\"C:\\Users\\srorta\\Desktop\\Email_Test\\test2.xlsx\")"
   ]
  },
  {
   "cell_type": "code",
   "execution_count": 30,
   "metadata": {},
   "outputs": [
    {
     "data": {
      "text/html": [
       "<div>\n",
       "<style scoped>\n",
       "    .dataframe tbody tr th:only-of-type {\n",
       "        vertical-align: middle;\n",
       "    }\n",
       "\n",
       "    .dataframe tbody tr th {\n",
       "        vertical-align: top;\n",
       "    }\n",
       "\n",
       "    .dataframe thead th {\n",
       "        text-align: right;\n",
       "    }\n",
       "</style>\n",
       "<table border=\"1\" class=\"dataframe\">\n",
       "  <thead>\n",
       "    <tr style=\"text-align: right;\">\n",
       "      <th></th>\n",
       "      <th>File Name</th>\n",
       "      <th>Download User</th>\n",
       "      <th>Date Downloaded</th>\n",
       "      <th>Email</th>\n",
       "    </tr>\n",
       "    <tr>\n",
       "      <th>Company</th>\n",
       "      <th></th>\n",
       "      <th></th>\n",
       "      <th></th>\n",
       "      <th></th>\n",
       "    </tr>\n",
       "  </thead>\n",
       "  <tbody>\n",
       "    <tr>\n",
       "      <th>(JHI)</th>\n",
       "      <td>IP3_Velocity_forPartners.pdf  Sept2019_Partne...</td>\n",
       "      <td>Dick Boyce [dick@jhiassociates.com] (JHI)  Di...</td>\n",
       "      <td>2019/08/29 11:19a  2019/08/29 11:17a  2019/08...</td>\n",
       "      <td>dick@jhiassociates.comdick@jhiassociates.comdi...</td>\n",
       "    </tr>\n",
       "    <tr>\n",
       "      <th>(Mid Atlantic)</th>\n",
       "      <td>Prospect Surfaces.zip</td>\n",
       "      <td>Denis Pieters [dpfarmers@aol.com] (Mid Atlant...</td>\n",
       "      <td>2019/08/29 3:09p</td>\n",
       "      <td>dpfarmers@aol.com</td>\n",
       "    </tr>\n",
       "    <tr>\n",
       "      <th>(Total)</th>\n",
       "      <td>Prospect Surfaces.zip  Shallow Hazard Surface...</td>\n",
       "      <td>Jan Baur [jan.baur@total.com] (Total)  Jan Ba...</td>\n",
       "      <td>2019/08/29 3:42p  2019/08/29 3:42p  2019/08/2...</td>\n",
       "      <td>jan.baur@total.comjan.baur@total.comjan.baur@t...</td>\n",
       "    </tr>\n",
       "  </tbody>\n",
       "</table>\n",
       "</div>"
      ],
      "text/plain": [
       "                                                        File Name  \\\n",
       "Company                                                             \n",
       "(JHI)            IP3_Velocity_forPartners.pdf  Sept2019_Partne...   \n",
       "(Mid Atlantic)                             Prospect Surfaces.zip    \n",
       "(Total)          Prospect Surfaces.zip  Shallow Hazard Surface...   \n",
       "\n",
       "                                                    Download User  \\\n",
       "Company                                                             \n",
       "(JHI)            Dick Boyce [dick@jhiassociates.com] (JHI)  Di...   \n",
       "(Mid Atlantic)   Denis Pieters [dpfarmers@aol.com] (Mid Atlant...   \n",
       "(Total)          Jan Baur [jan.baur@total.com] (Total)  Jan Ba...   \n",
       "\n",
       "                                                  Date Downloaded  \\\n",
       "Company                                                             \n",
       "(JHI)            2019/08/29 11:19a  2019/08/29 11:17a  2019/08...   \n",
       "(Mid Atlantic)                                  2019/08/29 3:09p    \n",
       "(Total)          2019/08/29 3:42p  2019/08/29 3:42p  2019/08/2...   \n",
       "\n",
       "                                                            Email  \n",
       "Company                                                            \n",
       "(JHI)           dick@jhiassociates.comdick@jhiassociates.comdi...  \n",
       "(Mid Atlantic)                                  dpfarmers@aol.com  \n",
       "(Total)         jan.baur@total.comjan.baur@total.comjan.baur@t...  "
      ]
     },
     "execution_count": 30,
     "metadata": {},
     "output_type": "execute_result"
    }
   ],
   "source": [
    "df_group = df.groupby(\"Company\")\n",
    "df_group.sum()"
   ]
  },
  {
   "cell_type": "code",
   "execution_count": 28,
   "metadata": {},
   "outputs": [
    {
     "ename": "TypeError",
     "evalue": "'bool' object is not callable",
     "output_type": "error",
     "traceback": [
      "\u001b[1;31m---------------------------------------------------------------------------\u001b[0m",
      "\u001b[1;31mTypeError\u001b[0m                                 Traceback (most recent call last)",
      "\u001b[1;32m<ipython-input-28-2e012babd20b>\u001b[0m in \u001b[0;36m<module>\u001b[1;34m\u001b[0m\n\u001b[0;32m      1\u001b[0m \u001b[0mdf_group1\u001b[0m \u001b[1;33m=\u001b[0m \u001b[0mdf\u001b[0m\u001b[1;33m.\u001b[0m\u001b[0mgroupby\u001b[0m\u001b[1;33m(\u001b[0m\u001b[0mby\u001b[0m \u001b[1;33m=\u001b[0m \u001b[1;33m[\u001b[0m\u001b[1;34m\"Company\"\u001b[0m\u001b[1;33m,\u001b[0m \u001b[1;34m\"Download User\"\u001b[0m\u001b[1;33m]\u001b[0m\u001b[1;33m)\u001b[0m\u001b[1;33m\u001b[0m\u001b[1;33m\u001b[0m\u001b[0m\n\u001b[1;32m----> 2\u001b[1;33m \u001b[0mdf_group1\u001b[0m\u001b[1;33m.\u001b[0m\u001b[0msort\u001b[0m\u001b[1;33m(\u001b[0m\u001b[1;33m)\u001b[0m\u001b[1;33m\u001b[0m\u001b[1;33m\u001b[0m\u001b[0m\n\u001b[0m",
      "\u001b[1;31mTypeError\u001b[0m: 'bool' object is not callable"
     ]
    }
   ],
   "source": [
    "df_group1 = df.groupby(by = [\"Company\", \"Download User\"])\n",
    "df_group1.sort()"
   ]
  },
  {
   "cell_type": "code",
   "execution_count": null,
   "metadata": {},
   "outputs": [],
   "source": []
  }
 ],
 "metadata": {
  "kernelspec": {
   "display_name": "Python 3",
   "language": "python",
   "name": "python3"
  },
  "language_info": {
   "codemirror_mode": {
    "name": "ipython",
    "version": 3
   },
   "file_extension": ".py",
   "mimetype": "text/x-python",
   "name": "python",
   "nbconvert_exporter": "python",
   "pygments_lexer": "ipython3",
   "version": "3.8.5"
  }
 },
 "nbformat": 4,
 "nbformat_minor": 4
}
