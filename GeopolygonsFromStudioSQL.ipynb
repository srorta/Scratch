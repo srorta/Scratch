{
 "cells": [
  {
   "cell_type": "markdown",
   "metadata": {},
   "source": [
    "# Geopolygon Extraction From Studio Using SQL"
   ]
  },
  {
   "cell_type": "markdown",
   "metadata": {},
   "source": [
    "### This Jupyter Notebook extracts geopolgyons from Studio. The extraction only exports geopolygon outlines and not the attribute information associated with each polygon. Basic geopolygon information like the name, guid, and studio folder path is provided. "
   ]
  },
  {
   "cell_type": "code",
   "execution_count": 302,
   "metadata": {},
   "outputs": [
    {
     "name": "stdout",
     "output_type": "stream",
     "text": [
      "Engine(oracle://@P_PET_SAMP)\n"
     ]
    }
   ],
   "source": [
    "###IMPORT  LIBRARIES#####\n",
    "import pandas as pd\n",
    "import arcgis\n",
    "from arcgis.features import GeoAccessor,GeoSeriesAccessor\n",
    "from datetime import datetime\n",
    "import sqlalchemy\n",
    "from sqlalchemy import create_engine\n",
    "import cx_Oracle\n",
    "import os\n",
    "import arcpy\n",
    "startTime = datetime.now()\n",
    "\n",
    "###connect to studio###\n",
    "engine = create_engine('oracle://@P_PET_SAMP')\n",
    "connection = engine.connect()\n",
    "print(engine) "
   ]
  },
  {
   "cell_type": "code",
   "execution_count": 303,
   "metadata": {},
   "outputs": [],
   "source": [
    "#Setting Variables\n",
    "arcpy.env.overwriteOutput = True\n",
    "Studio_SDE = \"I:\\\\UTCS\\\\Region\\\\SAmerica.Hou\\\\Ref_Data\\\\Guyana.hou\\\\General\\\\Maps\\\\Guyana_INT_to_Guyana_SDE\\\\HA_P_PET_SAMP.sde\"\n",
    "Project_gdb = \"C:\\\\Users\\\\srorta\\\\Desktop\\\\Guyana\\\\MyProject\\\\MyProject.gdb\"\n",
    "splittatt = \"C:\\\\Users\\\\srorta\\\\Desktop\\\\Guyana\\\\MyProject\\\\splittatt.gdb\""
   ]
  },
  {
   "cell_type": "markdown",
   "metadata": {},
   "source": [
    "#### The query cell is a sql query that can be modified to whatever is needed."
   ]
  },
  {
   "cell_type": "code",
   "execution_count": 304,
   "metadata": {},
   "outputs": [],
   "source": [
    "geopolygon_query = ''' SELECT \n",
    "                dbxobj.name NAME,\n",
    "                dbxobj.folder_path FOLDER_PATH,\n",
    "                dbxobj.display_type Display_Type,\n",
    "                dbxobj.domain_object Domain_Object,\n",
    "                dbxobj.guid GUID,\n",
    "                dbxobj.shape SHAPE,\n",
    "                sdo_util.getnumelem(dbxobj.shape) NumElements,\n",
    "                sdo_util.getnumvertices(dbxobj.shape) NumVertices\n",
    "\n",
    "            FROM \n",
    "                GUYANA_INT.DBX_OBJECT dbxobj\n",
    "\n",
    "            WHERE \n",
    "                GENERIC_DISPLAY_TYPE = 'Geopolygons'  '''\n"
   ]
  },
  {
   "cell_type": "code",
   "execution_count": 305,
   "metadata": {},
   "outputs": [
    {
     "data": {
      "text/html": [
       "<div>\n",
       "<style scoped>\n",
       "    .dataframe tbody tr th:only-of-type {\n",
       "        vertical-align: middle;\n",
       "    }\n",
       "\n",
       "    .dataframe tbody tr th {\n",
       "        vertical-align: top;\n",
       "    }\n",
       "\n",
       "    .dataframe thead th {\n",
       "        text-align: right;\n",
       "    }\n",
       "</style>\n",
       "<table border=\"1\" class=\"dataframe\">\n",
       "  <thead>\n",
       "    <tr style=\"text-align: right;\">\n",
       "      <th></th>\n",
       "      <th>NAME</th>\n",
       "      <th>FOLDER_PATH</th>\n",
       "      <th>DISPLAY_TYPE</th>\n",
       "      <th>DOMAIN_OBJECT</th>\n",
       "      <th>GUID</th>\n",
       "      <th>NUMELEMENTS</th>\n",
       "      <th>NUMVERTICES</th>\n",
       "    </tr>\n",
       "  </thead>\n",
       "  <tbody>\n",
       "    <tr>\n",
       "      <th>0</th>\n",
       "      <td>GUYANA_AOI_Filter</td>\n",
       "      <td>\\Project\\Input\\Reference Datasets\\Regional</td>\n",
       "      <td>Geopolygons</td>\n",
       "      <td>DbxGeopolygonSet</td>\n",
       "      <td>://+1__GeopolygonModule.Persistence.Geopolygon/+1__6c6964e8-3b0a-4142-a8d9-81e6a522d33f</td>\n",
       "      <td>1</td>\n",
       "      <td>12451</td>\n",
       "    </tr>\n",
       "    <tr>\n",
       "      <th>1</th>\n",
       "      <td>Sorubim_3D</td>\n",
       "      <td>\\Project\\Input\\Reference Datasets\\Polygons</td>\n",
       "      <td>Geopolygons</td>\n",
       "      <td>DbxGeopolygonSet</td>\n",
       "      <td>://+1__GeopolygonModule.Persistence.Geopolygon/+1__8f2db58f-303f-448c-a826-69a06847cc18</td>\n",
       "      <td>1</td>\n",
       "      <td>11</td>\n",
       "    </tr>\n",
       "    <tr>\n",
       "      <th>2</th>\n",
       "      <td>Guyana_3d_17k</td>\n",
       "      <td>\\Project\\Input\\Reference Datasets\\Polygons</td>\n",
       "      <td>Geopolygons</td>\n",
       "      <td>DbxGeopolygonSet</td>\n",
       "      <td>://+1__GeopolygonModule.Persistence.Geopolygon/+1__4cb9089a-98dc-4519-9496-3dce33c93193</td>\n",
       "      <td>1</td>\n",
       "      <td>33</td>\n",
       "    </tr>\n",
       "    <tr>\n",
       "      <th>3</th>\n",
       "      <td>Guyana_3D_17k_Sorubim_3D_Merge</td>\n",
       "      <td>\\Project\\Input\\Reference Datasets\\Polygons</td>\n",
       "      <td>Geopolygons</td>\n",
       "      <td>DbxGeopolygonSet</td>\n",
       "      <td>://+1__GeopolygonModule.Persistence.Geopolygon/+1__8711e036-6e32-408f-b9ee-f47fab284c6e</td>\n",
       "      <td>2</td>\n",
       "      <td>45</td>\n",
       "    </tr>\n",
       "    <tr>\n",
       "      <th>4</th>\n",
       "      <td>Payara_Prod_License_Area</td>\n",
       "      <td>\\Project\\Input\\Reference Datasets\\Polygons</td>\n",
       "      <td>Geopolygons</td>\n",
       "      <td>DbxGeopolygonSet</td>\n",
       "      <td>://+1__GeopolygonModule.Persistence.Geopolygon/+1__957797c5-8768-4e05-b3aa-56fd071200ec</td>\n",
       "      <td>3</td>\n",
       "      <td>19</td>\n",
       "    </tr>\n",
       "  </tbody>\n",
       "</table>\n",
       "</div>"
      ],
      "text/plain": [
       "                             NAME                                 FOLDER_PATH  \\\n",
       "0               GUYANA_AOI_Filter  \\Project\\Input\\Reference Datasets\\Regional   \n",
       "1                      Sorubim_3D  \\Project\\Input\\Reference Datasets\\Polygons   \n",
       "2                   Guyana_3d_17k  \\Project\\Input\\Reference Datasets\\Polygons   \n",
       "3  Guyana_3D_17k_Sorubim_3D_Merge  \\Project\\Input\\Reference Datasets\\Polygons   \n",
       "4        Payara_Prod_License_Area  \\Project\\Input\\Reference Datasets\\Polygons   \n",
       "\n",
       "  DISPLAY_TYPE     DOMAIN_OBJECT  \\\n",
       "0  Geopolygons  DbxGeopolygonSet   \n",
       "1  Geopolygons  DbxGeopolygonSet   \n",
       "2  Geopolygons  DbxGeopolygonSet   \n",
       "3  Geopolygons  DbxGeopolygonSet   \n",
       "4  Geopolygons  DbxGeopolygonSet   \n",
       "\n",
       "                                                                                      GUID  \\\n",
       "0  ://+1__GeopolygonModule.Persistence.Geopolygon/+1__6c6964e8-3b0a-4142-a8d9-81e6a522d33f   \n",
       "1  ://+1__GeopolygonModule.Persistence.Geopolygon/+1__8f2db58f-303f-448c-a826-69a06847cc18   \n",
       "2  ://+1__GeopolygonModule.Persistence.Geopolygon/+1__4cb9089a-98dc-4519-9496-3dce33c93193   \n",
       "3  ://+1__GeopolygonModule.Persistence.Geopolygon/+1__8711e036-6e32-408f-b9ee-f47fab284c6e   \n",
       "4  ://+1__GeopolygonModule.Persistence.Geopolygon/+1__957797c5-8768-4e05-b3aa-56fd071200ec   \n",
       "\n",
       "   NUMELEMENTS  NUMVERTICES  \n",
       "0            1        12451  \n",
       "1            1           11  \n",
       "2            1           33  \n",
       "3            2           45  \n",
       "4            3           19  "
      ]
     },
     "metadata": {},
     "output_type": "display_data"
    }
   ],
   "source": [
    "#wanted to see the query in dataframe view. Going to use this to join attributes later.\n",
    "polygons = pd.read_sql_query(sql = geopolygon_query,con=connection)\n",
    "polygons.columns = polygons.columns.str.upper()\n",
    "polygons = polygons.drop(columns=[\"SHAPE\"])\n",
    "display(polygons.head())\n",
    "\n",
    "#creating query layer from geopolygon query. Query layer by itself does not render, but once exported to feature, it renders fine. The polygons from studio are stored as polylines. Even the API has polygons entityeType as DbxPolylinesSet\n",
    "Geopolygon_layer = arcpy.MakeQueryLayer_management(input_database= Studio_SDE, out_layer_name=\"Geopolygon_layer\", query=geopolygon_query, oid_fields=[\"GUID\"], shape_type=\"POLYLINE\", srid=\"4326\")\n",
    "#creating feature class from query layer\n",
    "Geopolygon_feature = arcpy.FeatureClassToFeatureClass_conversion(in_features= Geopolygon_layer, out_path= Project_gdb, out_name=\"Geopolygons_from_Studio\")"
   ]
  },
  {
   "cell_type": "code",
   "execution_count": 306,
   "metadata": {},
   "outputs": [
    {
     "data": {
      "text/plain": [
       "<Result 'C:\\\\Users\\\\srorta\\\\Desktop\\\\Guyana\\\\MyProject\\\\splittatt.gdb'>"
      ]
     },
     "execution_count": 306,
     "metadata": {},
     "output_type": "execute_result"
    }
   ],
   "source": [
    "#Studio outputs polyline feature of all geopolygons. If you don't need them merged, you can run the splitbyattributes and will create separate features based on a certain attribute.\n",
    "fields = [\"NAME\"]\n",
    "arcpy.analysis.SplitByAttributes(Geopolygon_feature,splittatt,fields)"
   ]
  },
  {
   "cell_type": "code",
   "execution_count": 307,
   "metadata": {
    "scrolled": true
   },
   "outputs": [
    {
     "name": "stdout",
     "output_type": "stream",
     "text": [
      "(<Polyline object at 0x1cac81ce9b0[0x1cb6d12ea80]>, 'GUYANA_AOI_Filter', '\\\\Project\\\\Input\\\\Reference Datasets\\\\Regional', '://+1__GeopolygonModule.Persistence.Geopolygon/+1__6c6964e8-3b0a-4142-a8d9-81e6a522d33f', 'Geopolygons', 1.0, 12451.0)\n",
      "<geoprocessing describe geometry object object at 0x000001CB6D12EA80>\n",
      "GUYANA_AOI_Filter\n",
      "://+1__GeopolygonModule.Persistence.Geopolygon/+1__6c6964e8-3b0a-4142-a8d9-81e6a522d33f\n",
      "(<Polyline object at 0x1cb6d0f9cc0[0x1cb6d12e8a0]>, 'Sorubim_3D', '\\\\Project\\\\Input\\\\Reference Datasets\\\\Polygons', '://+1__GeopolygonModule.Persistence.Geopolygon/+1__8f2db58f-303f-448c-a826-69a06847cc18', 'Geopolygons', 1.0, 11.0)\n",
      "<geoprocessing describe geometry object object at 0x000001CB6D12E8A0>\n",
      "Sorubim_3D\n",
      "://+1__GeopolygonModule.Persistence.Geopolygon/+1__8f2db58f-303f-448c-a826-69a06847cc18\n",
      "(<Polyline object at 0x1cac81ce9b0[0x1cb6d12ea80]>, 'Guyana_3d_17k', '\\\\Project\\\\Input\\\\Reference Datasets\\\\Polygons', '://+1__GeopolygonModule.Persistence.Geopolygon/+1__4cb9089a-98dc-4519-9496-3dce33c93193', 'Geopolygons', 1.0, 33.0)\n",
      "<geoprocessing describe geometry object object at 0x000001CB6D12EA80>\n",
      "Guyana_3d_17k\n",
      "://+1__GeopolygonModule.Persistence.Geopolygon/+1__4cb9089a-98dc-4519-9496-3dce33c93193\n",
      "(<Polyline object at 0x1cb6d0f9cc0[0x1cb6d12e8a0]>, 'Guyana_3D_17k_Sorubim_3D_Merge', '\\\\Project\\\\Input\\\\Reference Datasets\\\\Polygons', '://+1__GeopolygonModule.Persistence.Geopolygon/+1__8711e036-6e32-408f-b9ee-f47fab284c6e', 'Geopolygons', 2.0, 45.0)\n",
      "<geoprocessing describe geometry object object at 0x000001CB6D12E8A0>\n",
      "Guyana_3D_17k_Sorubim_3D_Merge\n",
      "://+1__GeopolygonModule.Persistence.Geopolygon/+1__8711e036-6e32-408f-b9ee-f47fab284c6e\n",
      "(<Polyline object at 0x1cac81ce9b0[0x1cb6d12ea80]>, 'Payara_Prod_License_Area', '\\\\Project\\\\Input\\\\Reference Datasets\\\\Polygons', '://+1__GeopolygonModule.Persistence.Geopolygon/+1__957797c5-8768-4e05-b3aa-56fd071200ec', 'Geopolygons', 3.0, 19.0)\n",
      "<geoprocessing describe geometry object object at 0x000001CB6D12EA80>\n",
      "Payara_Prod_License_Area\n",
      "://+1__GeopolygonModule.Persistence.Geopolygon/+1__957797c5-8768-4e05-b3aa-56fd071200ec\n",
      "(<Polyline object at 0x1cb6d0f9cc0[0x1cb6d12e8a0]>, 'Anadarko_Block', '\\\\Project\\\\Input\\\\Reference Datasets\\\\Polygons', '://+1__GeopolygonModule.Persistence.Geopolygon/+1__ec157d8a-88fe-4336-96a5-3e15708ab5f5', 'Geopolygons', 1.0, 23.0)\n",
      "<geoprocessing describe geometry object object at 0x000001CB6D12E8A0>\n",
      "Anadarko_Block\n",
      "://+1__GeopolygonModule.Persistence.Geopolygon/+1__ec157d8a-88fe-4336-96a5-3e15708ab5f5\n",
      "(<Polyline object at 0x1cac81ce9b0[0x1cb6d12ea80]>, 'PayaraPL_From_Gregg_09_22_2020', '\\\\Project\\\\Input\\\\Reference Datasets\\\\Polygons', '://+1__GeopolygonModule.Persistence.Geopolygon/+1__b578efdb-dbfe-444a-b3a5-c55784384783', 'Geopolygons', 1.0, 5.0)\n",
      "<geoprocessing describe geometry object object at 0x000001CB6D12EA80>\n",
      "PayaraPL_From_Gregg_09_22_2020\n",
      "://+1__GeopolygonModule.Persistence.Geopolygon/+1__b578efdb-dbfe-444a-b3a5-c55784384783\n",
      "(<Polyline object at 0x1cb6d0f9cc0[0x1cb6d12e8a0]>, 'Converted Res 4 Clip OWC -5424m TVDss', '\\\\Project\\\\Input\\\\Reference Datasets\\\\Polygons\\\\Polygons for jacky', '://+1__GeopolygonModule.Persistence.Geopolygon/+1__db9bf4e5-8d8d-4680-96f2-1ec7592d0112', 'Geopolygons', 1.0, 204.0)\n",
      "<geoprocessing describe geometry object object at 0x000001CB6D12E8A0>\n",
      "Converted_Res_4_Clip_OWC_5424m_TVDss\n",
      "://+1__GeopolygonModule.Persistence.Geopolygon/+1__db9bf4e5-8d8d-4680-96f2-1ec7592d0112\n",
      "(<Polyline object at 0x1cac81ce9b0[0x1cb6d12ea80]>, 'Payara_Reservoir_5_Outline', '\\\\Project\\\\Input\\\\Reference Datasets\\\\Polygons\\\\Field Outlines\\\\Payara IRBA', '://+1__GeopolygonModule.Persistence.Geopolygon/+1__a57a03bf-7fec-43ba-b54b-ff2c7f911f2f', 'Geopolygons', 2.0, 664.0)\n",
      "<geoprocessing describe geometry object object at 0x000001CB6D12EA80>\n",
      "Payara_Reservoir_5_Outline\n",
      "://+1__GeopolygonModule.Persistence.Geopolygon/+1__a57a03bf-7fec-43ba-b54b-ff2c7f911f2f\n",
      "(<Polyline object at 0x1cb6d0f9cc0[0x1cb6d12e8a0]>, 'Pacora_Outline', '\\\\Project\\\\Input\\\\Reference Datasets\\\\Polygons\\\\Field Outlines\\\\Payara IRBA', '://+1__GeopolygonModule.Persistence.Geopolygon/+1__9c058ebe-f9ad-4842-93d6-49b736f01bf2', 'Geopolygons', 1.0, 290.0)\n",
      "<geoprocessing describe geometry object object at 0x000001CB6D12E8A0>\n",
      "Pacora_Outline\n",
      "://+1__GeopolygonModule.Persistence.Geopolygon/+1__9c058ebe-f9ad-4842-93d6-49b736f01bf2\n",
      "(<Polyline object at 0x1cac81ce9b0[0x1cb6d12ea80]>, 'Liza_PH2', '\\\\Project\\\\Input\\\\Reference Datasets\\\\Polygons\\\\Field Outlines\\\\Liza Phase 2 Gate 3 Field Boundaries (Oct18)', '://+1__GeopolygonModule.Persistence.Geopolygon/+1__ffc1ebbf-2c99-46e9-8798-43cce5ea8c83', 'Geopolygons', 1.0, 253.0)\n",
      "<geoprocessing describe geometry object object at 0x000001CB6D12EA80>\n",
      "Liza_PH2\n",
      "://+1__GeopolygonModule.Persistence.Geopolygon/+1__ffc1ebbf-2c99-46e9-8798-43cce5ea8c83\n",
      "(<Polyline object at 0x1cb6d0f9cc0[0x1cb6d12e8a0]>, 'Liza_Lead', '\\\\Project\\\\Input\\\\Reference Datasets\\\\Polygons\\\\Field Outlines\\\\Liza Phase 2 Gate 3 Field Boundaries (Oct18)', '://+1__GeopolygonModule.Persistence.Geopolygon/+1__95c6adb5-d9bd-4db2-96d1-8315e5fbc140', 'Geopolygons', 1.0, 481.0)\n",
      "<geoprocessing describe geometry object object at 0x000001CB6D12E8A0>\n",
      "Liza_Lead\n",
      "://+1__GeopolygonModule.Persistence.Geopolygon/+1__95c6adb5-d9bd-4db2-96d1-8315e5fbc140\n",
      "(<Polyline object at 0x1cac81ce9b0[0x1cb6d12ea80]>, 'Liza_PH1', '\\\\Project\\\\Input\\\\Reference Datasets\\\\Polygons\\\\Field Outlines\\\\Liza Phase 2 Gate 3 Field Boundaries (Oct18)', '://+1__GeopolygonModule.Persistence.Geopolygon/+1__e94dabaa-3fd2-4437-9543-7cbbffe839c8', 'Geopolygons', 1.0, 216.0)\n",
      "<geoprocessing describe geometry object object at 0x000001CB6D12EA80>\n",
      "Liza_PH1\n",
      "://+1__GeopolygonModule.Persistence.Geopolygon/+1__e94dabaa-3fd2-4437-9543-7cbbffe839c8\n",
      "(<Polyline object at 0x1cb6d0f9cc0[0x1cb6d12e8a0]>, 'GUYANA_INT_AOI_Clip', '\\\\Project\\\\Input\\\\Reference Datasets\\\\Political Boundaries', '://+1__GeopolygonModule.Persistence.Geopolygon/+1__87d7f6e6-b33f-44ce-b996-43d67424c5e0', 'Geopolygons', 1.0, 12558.0)\n",
      "<geoprocessing describe geometry object object at 0x000001CB6D12E8A0>\n",
      "GUYANA_INT_AOI_Clip\n",
      "://+1__GeopolygonModule.Persistence.Geopolygon/+1__87d7f6e6-b33f-44ce-b996-43d67424c5e0\n",
      "(<Polyline object at 0x1cac81ce9b0[0x1cb6d12ea80]>, 'Kaieteur_verified', '\\\\Project\\\\Input\\\\Reference Datasets\\\\Block Outlines', '://+1__GeopolygonModule.Persistence.Geopolygon/+1__e0a195a7-789e-4591-8ec6-57220cd5178c', 'Geopolygons', 1.0, 26.0)\n",
      "<geoprocessing describe geometry object object at 0x000001CB6D12EA80>\n",
      "Kaieteur_verified\n",
      "://+1__GeopolygonModule.Persistence.Geopolygon/+1__e0a195a7-789e-4591-8ec6-57220cd5178c\n",
      "(<Polyline object at 0x1cb6d0f9cc0[0x1cb6d12e8a0]>, 'Canje_verified', '\\\\Project\\\\Input\\\\Reference Datasets\\\\Block Outlines', '://+1__GeopolygonModule.Persistence.Geopolygon/+1__52110078-80f8-4794-b8d8-ee626f3f1598', 'Geopolygons', 1.0, 40.0)\n",
      "<geoprocessing describe geometry object object at 0x000001CB6D12E8A0>\n",
      "Canje_verified\n",
      "://+1__GeopolygonModule.Persistence.Geopolygon/+1__52110078-80f8-4794-b8d8-ee626f3f1598\n",
      "(<Polyline object at 0x1cac81ce9b0[0x1cb6d12ea80]>, 'IHS_Blocks_Guyana_Suriname', '\\\\Project\\\\Input\\\\Reference Datasets\\\\Block Outlines', '://+1__GeopolygonModule.Persistence.Geopolygon/+1__adb3daa2-4c88-4423-8ba2-069b1139e631', 'Geopolygons', 44.0, 981.0)\n",
      "<geoprocessing describe geometry object object at 0x000001CB6D12EA80>\n",
      "IHS_Blocks_Guyana_Suriname\n",
      "://+1__GeopolygonModule.Persistence.Geopolygon/+1__adb3daa2-4c88-4423-8ba2-069b1139e631\n",
      "(<Polyline object at 0x1cb6d0f9cc0[0x1cb6d12e8a0]>, 'Stabroek_verified', '\\\\Project\\\\Input\\\\Reference Datasets\\\\Block Outlines', '://+1__GeopolygonModule.Persistence.Geopolygon/+1__653f2c4b-e555-4641-9984-fb7ecbd2cd98', 'Geopolygons', 1.0, 102.0)\n",
      "<geoprocessing describe geometry object object at 0x000001CB6D12E8A0>\n",
      "Stabroek_verified\n",
      "://+1__GeopolygonModule.Persistence.Geopolygon/+1__653f2c4b-e555-4641-9984-fb7ecbd2cd98\n",
      "(<Polyline object at 0x1cac81ce9b0[0x1cb6d12ea80]>, 'TopExplorationLeads_October2020', '\\\\Project\\\\Input\\\\Reference Datasets\\\\Leads', '://+1__GeopolygonModule.Persistence.Geopolygon/+1__6fe96d75-09ad-4b2d-8ee0-7c17f779a5c9', 'Geopolygons', 151.0, 30041.0)\n",
      "<geoprocessing describe geometry object object at 0x000001CB6D12EA80>\n",
      "TopExplorationLeads_October2020\n",
      "://+1__GeopolygonModule.Persistence.Geopolygon/+1__6fe96d75-09ad-4b2d-8ee0-7c17f779a5c9\n"
     ]
    }
   ],
   "source": [
    "#If you need a merged geopolygon set, but as polygons, this cell converts each record to polygon, adds back the GUID attribute and merges all records again. \n",
    "#Final product is a polygon feature class with all the polygons. When converting from Polyline to Polygon, each element is a separate record.\n",
    "arcpy.env.workspace = splittatt\n",
    "arcpy.env.overwriteOutput = True\n",
    "fields = [\"SHAPE@\",\"NAME\",\"FOLDER_PATH\",\"GUID\",\"DISPLAY_TYPE\",\"NUMELEMENTS\",\"NUMVERTICES\"]\n",
    "with arcpy.da.SearchCursor(Geopolygon_feature,fields) as cursor:\n",
    "    for row in cursor:\n",
    "        rowreplace = row[1].replace(\" \",\"_\")\n",
    "        rowreplace = rowreplace.replace(\"-\",\"\")\n",
    "        print(row)\n",
    "        print(row[0])\n",
    "        print(rowreplace)\n",
    "        feature = arcpy.management.CopyFeatures(row[0],f\"fc_{rowreplace}\")\n",
    "        feat2poly = arcpy.management.FeatureToPolygon(feature,f\"{feature}_poly\")\n",
    "        field = \"GUID\"\n",
    "        expression = row[3]\n",
    "        print(expression)\n",
    "        arcpy.AddField_management(feat2poly,field,\"TEXT\")\n",
    "        arcpy.CalculateField_management(feat2poly,field,'\"'+expression+'\"',\"PYTHON3\")\n",
    "\n",
    "merge_list = arcpy.ListFeatureClasses(\"*_poly\")\n",
    "Geopolygon_studio = arcpy.management.Merge(merge_list,f\"Geopolygons_studio_GUID\")"
   ]
  },
  {
   "cell_type": "code",
   "execution_count": 308,
   "metadata": {},
   "outputs": [
    {
     "name": "stdout",
     "output_type": "stream",
     "text": [
      "Creating Geopolygon feature...\n",
      "Total time to run: 0:02:15.647872\n"
     ]
    }
   ],
   "source": [
    "#creating spatial dataframe from the outputted feature class. Going to merge the attributes from the polygons dataframe with the spatial dataframe and create a new final feature class.\n",
    "sdf = pd.DataFrame.spatial.from_featureclass(Geopolygon_studio)\n",
    "\n",
    "final = pd.merge(sdf,polygons,how=\"left\",left_on=[\"GUID\"],right_on=[\"GUID\"])\n",
    "print(\"Creating Geopolygon feature...\")\n",
    "final.spatial.to_featureclass(location=\"C:\\\\Users\\\\srorta\\\\Desktop\\\\Guyana\\\\MyProject\\\\splittatt.gdb\\\\Geopolygons_final\",overwrite=True) #this cell will fail if feature is open in project.\n",
    "finaltime = datetime.now()-startTime\n",
    "print(f\"Total time to run: {finaltime}\")"
   ]
  },
  {
   "cell_type": "code",
   "execution_count": null,
   "metadata": {},
   "outputs": [],
   "source": [
    "\n",
    "\n"
   ]
  },
  {
   "cell_type": "code",
   "execution_count": null,
   "metadata": {},
   "outputs": [],
   "source": []
  }
 ],
 "metadata": {
  "kernelspec": {
   "display_name": "Python 3",
   "language": "python",
   "name": "python3"
  },
  "language_info": {
   "codemirror_mode": {
    "name": "ipython",
    "version": 3
   },
   "file_extension": ".py",
   "mimetype": "text/x-python",
   "name": "python",
   "nbconvert_exporter": "python",
   "pygments_lexer": "ipython3",
   "version": "3.8.5"
  }
 },
 "nbformat": 4,
 "nbformat_minor": 2
}
