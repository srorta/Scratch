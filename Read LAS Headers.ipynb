{
 "cells": [
  {
   "cell_type": "code",
   "execution_count": 5,
   "metadata": {},
   "outputs": [],
   "source": [
    "import lasio.examples\n",
    "import pandas as pd\n",
    "import os, glob"
   ]
  },
  {
   "cell_type": "code",
   "execution_count": 6,
   "metadata": {},
   "outputs": [],
   "source": [
    "folder = \"C:\\\\Users\\\\srorta\\\\Desktop\\\\geoapps\\\\\""
   ]
  },
  {
   "cell_type": "code",
   "execution_count": 24,
   "metadata": {},
   "outputs": [],
   "source": [
    "all_files = glob.glob(os.path.join(folder, \"*.las\"))\n",
    "file1 = \"C:\\\\Users\\\\srorta\\\\Desktop\\\\geoapps\\\\hammerhead-1_bp01_geoapps.las\""
   ]
  },
  {
   "cell_type": "code",
   "execution_count": 30,
   "metadata": {},
   "outputs": [
    {
     "name": "stdout",
     "output_type": "stream",
     "text": [
      "<class 'list'>\n"
     ]
    }
   ],
   "source": [
    "logs_needed = ['DTC','DTS','PHIT','SWT','VCLAY']\n",
    "print(type(logs_needed))"
   ]
  },
  {
   "cell_type": "code",
   "execution_count": 38,
   "metadata": {},
   "outputs": [
    {
     "name": "stdout",
     "output_type": "stream",
     "text": [
      "C:\\Users\\srorta\\Desktop\\geoapps\\abary-1_geoapps.las does not have the mnemonics required.\n",
      "C:\\Users\\srorta\\Desktop\\geoapps\\aitkanti-1st2_geoapps.las does not have the mnemonics required.\n",
      "C:\\Users\\srorta\\Desktop\\geoapps\\aracari-1_geoapps.las does not have the mnemonics required.\n",
      "C:\\Users\\srorta\\Desktop\\geoapps\\arapaima-1_geoapps.las does not have the mnemonics required.\n",
      "C:\\Users\\srorta\\Desktop\\geoapps\\caracara-1_geoapps.las is fine.\n",
      "C:\\Users\\srorta\\Desktop\\geoapps\\coronie_offshore-1_geoapps.las does not have the mnemonics required.\n",
      "C:\\Users\\srorta\\Desktop\\geoapps\\demerara_a2-1_geoapps.las does not have the mnemonics required.\n",
      "C:\\Users\\srorta\\Desktop\\geoapps\\eagle_t-1_geoapps.las is fine.\n",
      "C:\\Users\\srorta\\Desktop\\geoapps\\galibi_offshore-1_geoapps.las does not have the mnemonics required.\n",
      "C:\\Users\\srorta\\Desktop\\geoapps\\Haimara-1_BP1_geoapps.las does not have the mnemonics required.\n",
      "C:\\Users\\srorta\\Desktop\\geoapps\\Haimara-1_geoapps.las is fine.\n",
      "C:\\Users\\srorta\\Desktop\\geoapps\\hammerhead-1_bp01_geoapps.las is fine.\n",
      "C:\\Users\\srorta\\Desktop\\geoapps\\hammerhead-1_bp02_geoapps.las is fine.\n",
      "C:\\Users\\srorta\\Desktop\\geoapps\\hammerhead-2_geoapps.las is fine.\n",
      "C:\\Users\\srorta\\Desktop\\geoapps\\hammerhead-3_geoapps.las is fine.\n",
      "C:\\Users\\srorta\\Desktop\\geoapps\\liza-1_bp01_geoapps.las is fine.\n",
      "C:\\Users\\srorta\\Desktop\\geoapps\\liza-1_bp02_geoapps.las is fine.\n",
      "C:\\Users\\srorta\\Desktop\\geoapps\\liza-1_geoapps_export_02172016.las does not have the mnemonics required.\n",
      "C:\\Users\\srorta\\Desktop\\geoapps\\liza-2_geoapps.las is fine.\n",
      "C:\\Users\\srorta\\Desktop\\geoapps\\liza-2_st1_geoapps.las is fine.\n",
      "C:\\Users\\srorta\\Desktop\\geoapps\\liza-3_geoapps.las is fine.\n",
      "C:\\Users\\srorta\\Desktop\\geoapps\\liza-3_st1_geoapps.las is fine.\n",
      "C:\\Users\\srorta\\Desktop\\geoapps\\liza-4_geoapps.las is fine.\n",
      "C:\\Users\\srorta\\Desktop\\geoapps\\liza-5_geoapps.las is fine.\n",
      "C:\\Users\\srorta\\Desktop\\geoapps\\liza6_wi_geoapps_23Sept2020.las does not have the mnemonics required.\n",
      "C:\\Users\\srorta\\Desktop\\geoapps\\liz_1g2_geoapps16Sept2020.las does not have the mnemonics required.\n",
      "C:\\Users\\srorta\\Desktop\\geoapps\\liz_1g3_geoapps.las does not have the mnemonics required.\n",
      "C:\\Users\\srorta\\Desktop\\geoapps\\liz_1g4_geoapps.las does not have the mnemonics required.\n",
      "C:\\Users\\srorta\\Desktop\\geoapps\\liz_1g4_geoapps_RM.las does not have the mnemonics required.\n",
      "C:\\Users\\srorta\\Desktop\\geoapps\\liz_1p1_geoapps_20180726.las does not have the mnemonics required.\n",
      "C:\\Users\\srorta\\Desktop\\geoapps\\liz_1p1_geoapps_20200809.las does not have the mnemonics required.\n",
      "C:\\Users\\srorta\\Desktop\\geoapps\\liz_1p2_geoapps_RM.las does not have the mnemonics required.\n",
      "C:\\Users\\srorta\\Desktop\\geoapps\\liz_1p3_geoapps.las does not have the mnemonics required.\n",
      "C:\\Users\\srorta\\Desktop\\geoapps\\liz_1p4_geoapps20200809.las does not have the mnemonics required.\n",
      "C:\\Users\\srorta\\Desktop\\geoapps\\liz_1p4_geoapps_05142019.las does not have the mnemonics required.\n",
      "C:\\Users\\srorta\\Desktop\\geoapps\\liz_1w1_geoapps.las does not have the mnemonics required.\n",
      "C:\\Users\\srorta\\Desktop\\geoapps\\liz_1w2_geoapps.las does not have the mnemonics required.\n",
      "C:\\Users\\srorta\\Desktop\\geoapps\\liz_2p1_geoapps.las does not have the mnemonics required.\n",
      "C:\\Users\\srorta\\Desktop\\geoapps\\liz_2p4_geoapps20200809.las does not have the mnemonics required.\n",
      "C:\\Users\\srorta\\Desktop\\geoapps\\liz_2p4_geoapps_final_RM.las does not have the mnemonics required.\n",
      "C:\\Users\\srorta\\Desktop\\geoapps\\liz_2w2_geoapps.las does not have the mnemonics required.\n",
      "C:\\Users\\srorta\\Desktop\\geoapps\\liz_2w3_bp01_geoapps.las does not have the mnemonics required.\n",
      "C:\\Users\\srorta\\Desktop\\geoapps\\liz_2w3_geoapps_RT_04072020.las does not have the mnemonics required.\n",
      "C:\\Users\\srorta\\Desktop\\geoapps\\liz_2w6_geoapps.las does not have the mnemonics required.\n",
      "C:\\Users\\srorta\\Desktop\\geoapps\\liz_2w6_geoappsRTatTD.las does not have the mnemonics required.\n",
      "C:\\Users\\srorta\\Desktop\\geoapps\\liz_2w6_geoapps_RTatTD.las does not have the mnemonics required.\n",
      "C:\\Users\\srorta\\Desktop\\geoapps\\liz_3i2_geoapps_04Nov2020.las is fine.\n",
      "C:\\Users\\srorta\\Desktop\\geoapps\\liz_3i7_geoapps.las is fine.\n",
      "C:\\Users\\srorta\\Desktop\\geoapps\\liz_3i7_st_geoapps.las does not have the mnemonics required.\n",
      "C:\\Users\\srorta\\Desktop\\geoapps\\liz_3p14_geoapps.las does not have the mnemonics required.\n",
      "C:\\Users\\srorta\\Desktop\\geoapps\\liz_3p24_geoapps.las does not have the mnemonics required.\n",
      "C:\\Users\\srorta\\Desktop\\geoapps\\liz_4p14_geoapps.las does not have the mnemonics required.\n",
      "C:\\Users\\srorta\\Desktop\\geoapps\\longtail-1_bp01_geoapps.las is fine.\n",
      "C:\\Users\\srorta\\Desktop\\geoapps\\longtail-1_geoapps_08072018.las does not have the mnemonics required.\n",
      "C:\\Users\\srorta\\Desktop\\geoapps\\mako-1_bp1_geoapps.las is fine.\n",
      "C:\\Users\\srorta\\Desktop\\geoapps\\mako-1_geoapps.las is fine.\n",
      "C:\\Users\\srorta\\Desktop\\geoapps\\maroni_offshore-1_geoapps.las does not have the mnemonics required.\n",
      "C:\\Users\\srorta\\Desktop\\geoapps\\north_coronie-1_geoapps.las does not have the mnemonics required.\n",
      "C:\\Users\\srorta\\Desktop\\geoapps\\pacora-1_geoapps.las is fine.\n",
      "C:\\Users\\srorta\\Desktop\\geoapps\\payara-1_geoapps.las is fine.\n",
      "C:\\Users\\srorta\\Desktop\\geoapps\\payara-1_st1_geoapps.las is fine.\n",
      "C:\\Users\\srorta\\Desktop\\geoapps\\payara-1_st2_geoapps.las is fine.\n",
      "C:\\Users\\srorta\\Desktop\\geoapps\\payara-2_bp01_geoapps.las is fine.\n",
      "C:\\Users\\srorta\\Desktop\\geoapps\\payara-2_geoapps.las is fine.\n",
      "C:\\Users\\srorta\\Desktop\\geoapps\\pluma-1_bp01_geoapps.las does not have the mnemonics required.\n",
      "C:\\Users\\srorta\\Desktop\\geoapps\\pluma-1_geoapps_12112018.las does not have the mnemonics required.\n",
      "C:\\Users\\srorta\\Desktop\\geoapps\\pluma-1_st01_geoapps_12112018.las does not have the mnemonics required.\n",
      "C:\\Users\\srorta\\Desktop\\geoapps\\ranger-1_geoapps_06292018.las does not have the mnemonics required.\n",
      "C:\\Users\\srorta\\Desktop\\geoapps\\ranger-2_geoapps.las does not have the mnemonics required.\n",
      "C:\\Users\\srorta\\Desktop\\geoapps\\redtail-1oh_geoapps.las does not have the mnemonics required.\n",
      "C:\\Users\\srorta\\Desktop\\geoapps\\redtail-1st_geoapps.las is fine.\n",
      "C:\\Users\\srorta\\Desktop\\geoapps\\roselle-1_geoapps.las is fine.\n",
      "C:\\Users\\srorta\\Desktop\\geoapps\\skipjack-1_geoapps.las is fine.\n",
      "C:\\Users\\srorta\\Desktop\\geoapps\\snoek-1_geoapps.las is fine.\n",
      "C:\\Users\\srorta\\Desktop\\geoapps\\sorubim-1_geoapps.las is fine.\n",
      "C:\\Users\\srorta\\Desktop\\geoapps\\spari-1st1_geoapps.las is fine.\n",
      "C:\\Users\\srorta\\Desktop\\geoapps\\Tanager-1_geoapps.las is fine.\n",
      "C:\\Users\\srorta\\Desktop\\geoapps\\tilapia-1_bp1_geoapps.las does not have the mnemonics required.\n",
      "C:\\Users\\srorta\\Desktop\\geoapps\\tilapia-1_geoapps.las does not have the mnemonics required.\n",
      "C:\\Users\\srorta\\Desktop\\geoapps\\Tripletail-1_BP1_geoapps.las does not have the mnemonics required.\n",
      "C:\\Users\\srorta\\Desktop\\geoapps\\tripletail-1_bp2_geoapps_1.las does not have the mnemonics required.\n",
      "C:\\Users\\srorta\\Desktop\\geoapps\\Tripletail-1_geoapps.las does not have the mnemonics required.\n",
      "C:\\Users\\srorta\\Desktop\\geoapps\\turbot-1_bp01_geoapps.las is fine.\n",
      "C:\\Users\\srorta\\Desktop\\geoapps\\turbot-1_geoapps_11142017.las does not have the mnemonics required.\n",
      "C:\\Users\\srorta\\Desktop\\geoapps\\uaru-1_bp1_geoapps.las is fine.\n",
      "C:\\Users\\srorta\\Desktop\\geoapps\\uaru-1_geoapps.las is fine.\n",
      "C:\\Users\\srorta\\Desktop\\geoapps\\west_tapir_1_geoapps.las does not have the mnemonics required.\n",
      "C:\\Users\\srorta\\Desktop\\geoapps\\Yellowtail-1_BP1_geoapps.las does not have the mnemonics required.\n",
      "C:\\Users\\srorta\\Desktop\\geoapps\\Yellowtail-1_geoapps.las does not have the mnemonics required.\n",
      "C:\\Users\\srorta\\Desktop\\geoapps\\yellowtail-2oh_geoapps.las is fine.\n",
      "C:\\Users\\srorta\\Desktop\\geoapps\\yellowtail-2st_geoapps.las does not have the mnemonics required.\n"
     ]
    }
   ],
   "source": [
    "\n",
    "for file in all_files:\n",
    "    curve_list=[]\n",
    "    las = lasio.read(file)\n",
    "    for curve in las.curves:\n",
    "        curve_list.append(curve.mnemonic)\n",
    "    flag = 0\n",
    "    if(all(x in curve_list for x in logs_needed)):\n",
    "        flag = 1\n",
    "\n",
    "    if (flag):\n",
    "        print(f\"{file}  fine.\")\n",
    "    else:\n",
    "        print(f\"{file} does not have the mnemonics required.\")\n",
    "    curve_list.clear()"
   ]
  },
  {
   "cell_type": "code",
   "execution_count": null,
   "metadata": {},
   "outputs": [],
   "source": []
  }
 ],
 "metadata": {
  "kernelspec": {
   "display_name": "Python 3",
   "language": "python",
   "name": "python3"
  },
  "language_info": {
   "codemirror_mode": {
    "name": "ipython",
    "version": 3
   },
   "file_extension": ".py",
   "mimetype": "text/x-python",
   "name": "python",
   "nbconvert_exporter": "python",
   "pygments_lexer": "ipython3",
   "version": "3.8.5"
  }
 },
 "nbformat": 4,
 "nbformat_minor": 4
}
