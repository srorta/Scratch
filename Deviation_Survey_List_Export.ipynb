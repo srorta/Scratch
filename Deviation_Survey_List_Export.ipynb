{
 "cells": [
  {
   "cell_type": "code",
   "execution_count": 2,
   "metadata": {},
   "outputs": [
    {
     "name": "stdout",
     "output_type": "stream",
     "text": [
      "C:\\Users\\srorta\\Desktop\\Dev_Surv\\Bulletwood-1.xlsx\n",
      "C:\\Users\\srorta\\Desktop\\Dev_Surv\\Cataback-1.xlsx\n",
      "C:\\Users\\srorta\\Desktop\\Dev_Surv\\Haimara-1 BP1.xlsx\n",
      "C:\\Users\\srorta\\Desktop\\Dev_Surv\\Hammerhead-1 BP1.xlsx\n",
      "C:\\Users\\srorta\\Desktop\\Dev_Surv\\Hammerhead-1 BP2.xlsx\n",
      "C:\\Users\\srorta\\Desktop\\Dev_Surv\\Hammerhead-2.xlsx\n",
      "C:\\Users\\srorta\\Desktop\\Dev_Surv\\Hammerhead-3.xlsx\n",
      "C:\\Users\\srorta\\Desktop\\Dev_Surv\\Hassa-1.xlsx\n",
      "C:\\Users\\srorta\\Desktop\\Dev_Surv\\LIZA-1_BP1.xlsx\n",
      "C:\\Users\\srorta\\Desktop\\Dev_Surv\\LIZA-1_BP2.xlsx\n",
      "C:\\Users\\srorta\\Desktop\\Dev_Surv\\LIZA-2 ST01.xlsx\n",
      "C:\\Users\\srorta\\Desktop\\Dev_Surv\\LIZA-2.xlsx\n",
      "C:\\Users\\srorta\\Desktop\\Dev_Surv\\Liza-3 ST01.xlsx\n",
      "C:\\Users\\srorta\\Desktop\\Dev_Surv\\Liza-3.xlsx\n",
      "C:\\Users\\srorta\\Desktop\\Dev_Surv\\LIZA-4.xlsx\n",
      "C:\\Users\\srorta\\Desktop\\Dev_Surv\\LIZA-5.xlsx\n",
      "C:\\Users\\srorta\\Desktop\\Dev_Surv\\Longtail-1 BP1.xlsx\n",
      "C:\\Users\\srorta\\Desktop\\Dev_Surv\\Longtail-1.xlsx\n",
      "C:\\Users\\srorta\\Desktop\\Dev_Surv\\Longtail-2.xlsx\n",
      "C:\\Users\\srorta\\Desktop\\Dev_Surv\\Longtail-3 OH.xlsx\n",
      "C:\\Users\\srorta\\Desktop\\Dev_Surv\\Longtail-3 ST.xlsx\n",
      "C:\\Users\\srorta\\Desktop\\Dev_Surv\\Mako-1 BP1.xlsx\n",
      "C:\\Users\\srorta\\Desktop\\Dev_Surv\\Mako-1.xlsx\n",
      "C:\\Users\\srorta\\Desktop\\Dev_Surv\\Pacora-1.xlsx\n",
      "C:\\Users\\srorta\\Desktop\\Dev_Surv\\Payara-1 ST1.xlsx\n",
      "C:\\Users\\srorta\\Desktop\\Dev_Surv\\Payara-1 ST2.xlsx\n",
      "C:\\Users\\srorta\\Desktop\\Dev_Surv\\Payara-1.xlsx\n",
      "C:\\Users\\srorta\\Desktop\\Dev_Surv\\Payara-2 BP1.xlsx\n",
      "C:\\Users\\srorta\\Desktop\\Dev_Surv\\Payara-2.xlsx\n",
      "C:\\Users\\srorta\\Desktop\\Dev_Surv\\Pinktail-1 OH.xlsx\n",
      "C:\\Users\\srorta\\Desktop\\Dev_Surv\\Pinktail-1 ST.xlsx\n",
      "C:\\Users\\srorta\\Desktop\\Dev_Surv\\Pluma-1 BP-1.xlsx\n",
      "C:\\Users\\srorta\\Desktop\\Dev_Surv\\Redtail-1 OH.xlsx\n",
      "C:\\Users\\srorta\\Desktop\\Dev_Surv\\Redtail-1 ST.xlsx\n",
      "C:\\Users\\srorta\\Desktop\\Dev_Surv\\Sapote-1.xlsx\n",
      "C:\\Users\\srorta\\Desktop\\Dev_Surv\\Skipjack-1.xlsx\n",
      "C:\\Users\\srorta\\Desktop\\Dev_Surv\\SNOEK-1.xlsx\n",
      "C:\\Users\\srorta\\Desktop\\Dev_Surv\\Spari-1ST.xlsx\n",
      "C:\\Users\\srorta\\Desktop\\Dev_Surv\\Tanager-1 WIRE.xlsx\n",
      "C:\\Users\\srorta\\Desktop\\Dev_Surv\\Tilapia-1 BP-1.xlsx\n",
      "C:\\Users\\srorta\\Desktop\\Dev_Surv\\Tilapia-1.xlsx\n",
      "C:\\Users\\srorta\\Desktop\\Dev_Surv\\Tripletail-1 BP-1.xlsx\n",
      "C:\\Users\\srorta\\Desktop\\Dev_Surv\\Tripletail-1 BP-2.xlsx\n",
      "C:\\Users\\srorta\\Desktop\\Dev_Surv\\Tripletail-1.xlsx\n",
      "C:\\Users\\srorta\\Desktop\\Dev_Surv\\Tripletail-2.xlsx\n",
      "C:\\Users\\srorta\\Desktop\\Dev_Surv\\Turbot-1 BP1.xlsx\n",
      "C:\\Users\\srorta\\Desktop\\Dev_Surv\\Turbot-1.xlsx\n",
      "C:\\Users\\srorta\\Desktop\\Dev_Surv\\Turbot-2 OH.xlsx\n",
      "C:\\Users\\srorta\\Desktop\\Dev_Surv\\Turbot-2 ST.xlsx\n",
      "C:\\Users\\srorta\\Desktop\\Dev_Surv\\Uaru-1 BP-1.xlsx\n",
      "C:\\Users\\srorta\\Desktop\\Dev_Surv\\Uaru-1.xlsx\n",
      "C:\\Users\\srorta\\Desktop\\Dev_Surv\\Uaru-2 ST.xlsx\n",
      "C:\\Users\\srorta\\Desktop\\Dev_Surv\\Uaru-2.xlsx\n",
      "C:\\Users\\srorta\\Desktop\\Dev_Surv\\Whiptail-1.xlsx\n",
      "C:\\Users\\srorta\\Desktop\\Dev_Surv\\Whiptail-2.xlsx\n",
      "C:\\Users\\srorta\\Desktop\\Dev_Surv\\Yellowtail-1 BP-1.xlsx\n",
      "C:\\Users\\srorta\\Desktop\\Dev_Surv\\Yellowtail-1.xlsx\n",
      "C:\\Users\\srorta\\Desktop\\Dev_Surv\\Yellowtail-2 OH.xlsx\n",
      "C:\\Users\\srorta\\Desktop\\Dev_Surv\\Yellowtail-2 ST.xlsx\n"
     ]
    }
   ],
   "source": [
    "import lasio\n",
    "import pandas as pd\n",
    "import os,glob\n",
    "\n",
    "dev = []\n",
    "folder = r\"C:\\Users\\srorta\\Desktop\\Dev_Surv\"\n",
    "all_files = glob.glob(os.path.join(folder, \"*.xlsx\"))\n",
    "\n",
    "for file in all_files:\n",
    "    print(file)\n",
    "    dev.append(file)\n",
    "\n",
    "dev_df = pd.DataFrame(dev)\n",
    "dev_df.to_excel(r\"c:\\users\\srorta\\Desktop\\dev_surv_list.xlsx\")"
   ]
  },
  {
   "cell_type": "code",
   "execution_count": null,
   "metadata": {},
   "outputs": [],
   "source": []
  }
 ],
 "metadata": {
  "kernelspec": {
   "display_name": "Python 3",
   "language": "python",
   "name": "python3"
  },
  "language_info": {
   "codemirror_mode": {
    "name": "ipython",
    "version": 3
   },
   "file_extension": ".py",
   "mimetype": "text/x-python",
   "name": "python",
   "nbconvert_exporter": "python",
   "pygments_lexer": "ipython3",
   "version": "3.8.5"
  }
 },
 "nbformat": 4,
 "nbformat_minor": 4
}
