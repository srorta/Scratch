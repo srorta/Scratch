{
 "cells": [
  {
   "cell_type": "code",
   "execution_count": 2,
   "metadata": {},
   "outputs": [],
   "source": [
    "import pandas as pd\n",
    "import geopandas\n",
    "import matplotlib.pyplot as plt\n",
    "from mpl_toolkits.axes_grid1 import make_axes_locatable"
   ]
  },
  {
   "cell_type": "code",
   "execution_count": 3,
   "metadata": {},
   "outputs": [],
   "source": [
    "substations = r\"C:\\Users\\srorta\\Desktop\\Delaware_Substations\\Electric_Substations.geojson\" #downloaded substation data\n",
    "county = r\"C:\\Users\\srorta\\Desktop\\Delaware_Substations\\cb_2018_us_county_500k.zip\" #downloaded county data\n"
   ]
  },
  {
   "cell_type": "code",
   "execution_count": 5,
   "metadata": {},
   "outputs": [
    {
     "data": {
      "text/html": [
       "<div>\n",
       "<style scoped>\n",
       "    .dataframe tbody tr th:only-of-type {\n",
       "        vertical-align: middle;\n",
       "    }\n",
       "\n",
       "    .dataframe tbody tr th {\n",
       "        vertical-align: top;\n",
       "    }\n",
       "\n",
       "    .dataframe thead th {\n",
       "        text-align: right;\n",
       "    }\n",
       "</style>\n",
       "<table border=\"1\" class=\"dataframe\">\n",
       "  <thead>\n",
       "    <tr style=\"text-align: right;\">\n",
       "      <th></th>\n",
       "      <th>STATEFP</th>\n",
       "      <th>COUNTYFP</th>\n",
       "      <th>COUNTYNS</th>\n",
       "      <th>AFFGEOID</th>\n",
       "      <th>GEOID</th>\n",
       "      <th>NAME</th>\n",
       "      <th>LSAD</th>\n",
       "      <th>ALAND</th>\n",
       "      <th>AWATER</th>\n",
       "      <th>geometry</th>\n",
       "    </tr>\n",
       "  </thead>\n",
       "  <tbody>\n",
       "    <tr>\n",
       "      <th>0</th>\n",
       "      <td>21</td>\n",
       "      <td>007</td>\n",
       "      <td>00516850</td>\n",
       "      <td>0500000US21007</td>\n",
       "      <td>21007</td>\n",
       "      <td>Ballard</td>\n",
       "      <td>06</td>\n",
       "      <td>639387454</td>\n",
       "      <td>69473325</td>\n",
       "      <td>POLYGON ((-89.18137 37.04630, -89.17938 37.053...</td>\n",
       "    </tr>\n",
       "    <tr>\n",
       "      <th>1</th>\n",
       "      <td>21</td>\n",
       "      <td>017</td>\n",
       "      <td>00516855</td>\n",
       "      <td>0500000US21017</td>\n",
       "      <td>21017</td>\n",
       "      <td>Bourbon</td>\n",
       "      <td>06</td>\n",
       "      <td>750439351</td>\n",
       "      <td>4829777</td>\n",
       "      <td>POLYGON ((-84.44266 38.28324, -84.44114 38.283...</td>\n",
       "    </tr>\n",
       "    <tr>\n",
       "      <th>2</th>\n",
       "      <td>21</td>\n",
       "      <td>031</td>\n",
       "      <td>00516862</td>\n",
       "      <td>0500000US21031</td>\n",
       "      <td>21031</td>\n",
       "      <td>Butler</td>\n",
       "      <td>06</td>\n",
       "      <td>1103571974</td>\n",
       "      <td>13943044</td>\n",
       "      <td>POLYGON ((-86.94486 37.07341, -86.94346 37.074...</td>\n",
       "    </tr>\n",
       "    <tr>\n",
       "      <th>3</th>\n",
       "      <td>21</td>\n",
       "      <td>065</td>\n",
       "      <td>00516879</td>\n",
       "      <td>0500000US21065</td>\n",
       "      <td>21065</td>\n",
       "      <td>Estill</td>\n",
       "      <td>06</td>\n",
       "      <td>655509930</td>\n",
       "      <td>6516335</td>\n",
       "      <td>POLYGON ((-84.12662 37.64540, -84.12483 37.646...</td>\n",
       "    </tr>\n",
       "    <tr>\n",
       "      <th>4</th>\n",
       "      <td>21</td>\n",
       "      <td>069</td>\n",
       "      <td>00516881</td>\n",
       "      <td>0500000US21069</td>\n",
       "      <td>21069</td>\n",
       "      <td>Fleming</td>\n",
       "      <td>06</td>\n",
       "      <td>902727151</td>\n",
       "      <td>7182793</td>\n",
       "      <td>POLYGON ((-83.98428 38.44549, -83.98246 38.450...</td>\n",
       "    </tr>\n",
       "    <tr>\n",
       "      <th>...</th>\n",
       "      <td>...</td>\n",
       "      <td>...</td>\n",
       "      <td>...</td>\n",
       "      <td>...</td>\n",
       "      <td>...</td>\n",
       "      <td>...</td>\n",
       "      <td>...</td>\n",
       "      <td>...</td>\n",
       "      <td>...</td>\n",
       "      <td>...</td>\n",
       "    </tr>\n",
       "    <tr>\n",
       "      <th>3228</th>\n",
       "      <td>31</td>\n",
       "      <td>073</td>\n",
       "      <td>00835858</td>\n",
       "      <td>0500000US31073</td>\n",
       "      <td>31073</td>\n",
       "      <td>Gosper</td>\n",
       "      <td>06</td>\n",
       "      <td>1186616237</td>\n",
       "      <td>11831826</td>\n",
       "      <td>POLYGON ((-100.09510 40.43866, -100.08937 40.4...</td>\n",
       "    </tr>\n",
       "    <tr>\n",
       "      <th>3229</th>\n",
       "      <td>39</td>\n",
       "      <td>075</td>\n",
       "      <td>01074050</td>\n",
       "      <td>0500000US39075</td>\n",
       "      <td>39075</td>\n",
       "      <td>Holmes</td>\n",
       "      <td>06</td>\n",
       "      <td>1094405866</td>\n",
       "      <td>3695230</td>\n",
       "      <td>POLYGON ((-82.22066 40.66758, -82.19327 40.667...</td>\n",
       "    </tr>\n",
       "    <tr>\n",
       "      <th>3230</th>\n",
       "      <td>48</td>\n",
       "      <td>171</td>\n",
       "      <td>01383871</td>\n",
       "      <td>0500000US48171</td>\n",
       "      <td>48171</td>\n",
       "      <td>Gillespie</td>\n",
       "      <td>06</td>\n",
       "      <td>2740719114</td>\n",
       "      <td>9012764</td>\n",
       "      <td>POLYGON ((-99.30400 30.49983, -99.28234 30.499...</td>\n",
       "    </tr>\n",
       "    <tr>\n",
       "      <th>3231</th>\n",
       "      <td>55</td>\n",
       "      <td>079</td>\n",
       "      <td>01581100</td>\n",
       "      <td>0500000US55079</td>\n",
       "      <td>55079</td>\n",
       "      <td>Milwaukee</td>\n",
       "      <td>06</td>\n",
       "      <td>625440563</td>\n",
       "      <td>2455383635</td>\n",
       "      <td>POLYGON ((-88.06959 42.86726, -88.06959 42.872...</td>\n",
       "    </tr>\n",
       "    <tr>\n",
       "      <th>3232</th>\n",
       "      <td>26</td>\n",
       "      <td>139</td>\n",
       "      <td>01623012</td>\n",
       "      <td>0500000US26139</td>\n",
       "      <td>26139</td>\n",
       "      <td>Ottawa</td>\n",
       "      <td>06</td>\n",
       "      <td>1459502408</td>\n",
       "      <td>2765830983</td>\n",
       "      <td>POLYGON ((-86.26432 43.11830, -86.25103 43.118...</td>\n",
       "    </tr>\n",
       "  </tbody>\n",
       "</table>\n",
       "<p>3233 rows × 10 columns</p>\n",
       "</div>"
      ],
      "text/plain": [
       "     STATEFP COUNTYFP  COUNTYNS        AFFGEOID  GEOID       NAME LSAD  \\\n",
       "0         21      007  00516850  0500000US21007  21007    Ballard   06   \n",
       "1         21      017  00516855  0500000US21017  21017    Bourbon   06   \n",
       "2         21      031  00516862  0500000US21031  21031     Butler   06   \n",
       "3         21      065  00516879  0500000US21065  21065     Estill   06   \n",
       "4         21      069  00516881  0500000US21069  21069    Fleming   06   \n",
       "...      ...      ...       ...             ...    ...        ...  ...   \n",
       "3228      31      073  00835858  0500000US31073  31073     Gosper   06   \n",
       "3229      39      075  01074050  0500000US39075  39075     Holmes   06   \n",
       "3230      48      171  01383871  0500000US48171  48171  Gillespie   06   \n",
       "3231      55      079  01581100  0500000US55079  55079  Milwaukee   06   \n",
       "3232      26      139  01623012  0500000US26139  26139     Ottawa   06   \n",
       "\n",
       "           ALAND      AWATER  \\\n",
       "0      639387454    69473325   \n",
       "1      750439351     4829777   \n",
       "2     1103571974    13943044   \n",
       "3      655509930     6516335   \n",
       "4      902727151     7182793   \n",
       "...          ...         ...   \n",
       "3228  1186616237    11831826   \n",
       "3229  1094405866     3695230   \n",
       "3230  2740719114     9012764   \n",
       "3231   625440563  2455383635   \n",
       "3232  1459502408  2765830983   \n",
       "\n",
       "                                               geometry  \n",
       "0     POLYGON ((-89.18137 37.04630, -89.17938 37.053...  \n",
       "1     POLYGON ((-84.44266 38.28324, -84.44114 38.283...  \n",
       "2     POLYGON ((-86.94486 37.07341, -86.94346 37.074...  \n",
       "3     POLYGON ((-84.12662 37.64540, -84.12483 37.646...  \n",
       "4     POLYGON ((-83.98428 38.44549, -83.98246 38.450...  \n",
       "...                                                 ...  \n",
       "3228  POLYGON ((-100.09510 40.43866, -100.08937 40.4...  \n",
       "3229  POLYGON ((-82.22066 40.66758, -82.19327 40.667...  \n",
       "3230  POLYGON ((-99.30400 30.49983, -99.28234 30.499...  \n",
       "3231  POLYGON ((-88.06959 42.86726, -88.06959 42.872...  \n",
       "3232  POLYGON ((-86.26432 43.11830, -86.25103 43.118...  \n",
       "\n",
       "[3233 rows x 10 columns]"
      ]
     },
     "execution_count": 5,
     "metadata": {},
     "output_type": "execute_result"
    }
   ],
   "source": [
    "#reading files as geodataframe\n",
    "sub_df = geopandas.read_file(substations) \n",
    "county_df = geopandas.read_file(county)\n",
    "county_df"
   ]
  },
  {
   "cell_type": "code",
   "execution_count": 197,
   "metadata": {},
   "outputs": [
    {
     "data": {
      "text/plain": [
       "<Geographic 2D CRS: EPSG:4326>\n",
       "Name: WGS 84\n",
       "Axis Info [ellipsoidal]:\n",
       "- Lat[north]: Geodetic latitude (degree)\n",
       "- Lon[east]: Geodetic longitude (degree)\n",
       "Area of Use:\n",
       "- name: World.\n",
       "- bounds: (-180.0, -90.0, 180.0, 90.0)\n",
       "Datum: World Geodetic System 1984 ensemble\n",
       "- Ellipsoid: WGS 84\n",
       "- Prime Meridian: Greenwich"
      ]
     },
     "execution_count": 197,
     "metadata": {},
     "output_type": "execute_result"
    }
   ],
   "source": [
    "sub_df.crs #wanted to know CRS of substation geodataframe. "
   ]
  },
  {
   "cell_type": "code",
   "execution_count": 198,
   "metadata": {},
   "outputs": [
    {
     "data": {
      "text/plain": [
       "<Geographic 2D CRS: EPSG:4269>\n",
       "Name: NAD83\n",
       "Axis Info [ellipsoidal]:\n",
       "- Lat[north]: Geodetic latitude (degree)\n",
       "- Lon[east]: Geodetic longitude (degree)\n",
       "Area of Use:\n",
       "- name: North America - onshore and offshore: Canada - Alberta; British Columbia; Manitoba; New Brunswick; Newfoundland and Labrador; Northwest Territories; Nova Scotia; Nunavut; Ontario; Prince Edward Island; Quebec; Saskatchewan; Yukon. Puerto Rico. United States (USA) - Alabama; Alaska; Arizona; Arkansas; California; Colorado; Connecticut; Delaware; Florida; Georgia; Hawaii; Idaho; Illinois; Indiana; Iowa; Kansas; Kentucky; Louisiana; Maine; Maryland; Massachusetts; Michigan; Minnesota; Mississippi; Missouri; Montana; Nebraska; Nevada; New Hampshire; New Jersey; New Mexico; New York; North Carolina; North Dakota; Ohio; Oklahoma; Oregon; Pennsylvania; Rhode Island; South Carolina; South Dakota; Tennessee; Texas; Utah; Vermont; Virginia; Washington; West Virginia; Wisconsin; Wyoming. US Virgin Islands. British Virgin Islands.\n",
       "- bounds: (167.65071105957, 14.928194130078, -47.743430543984, 86.453745196084)\n",
       "Datum: North American Datum 1983\n",
       "- Ellipsoid: GRS 1980\n",
       "- Prime Meridian: Greenwich"
      ]
     },
     "execution_count": 198,
     "metadata": {},
     "output_type": "execute_result"
    }
   ],
   "source": [
    "county_df.crs #Wanted to know CRS of county geodataframe. "
   ]
  },
  {
   "cell_type": "code",
   "execution_count": 199,
   "metadata": {},
   "outputs": [
    {
     "data": {
      "text/plain": [
       "<Projected CRS: EPSG:3857>\n",
       "Name: WGS 84 / Pseudo-Mercator\n",
       "Axis Info [cartesian]:\n",
       "- X[east]: Easting (metre)\n",
       "- Y[north]: Northing (metre)\n",
       "Area of Use:\n",
       "- name: World between 85.06°S and 85.06°N.\n",
       "- bounds: (-180.0, -85.06, 180.0, 85.06)\n",
       "Coordinate Operation:\n",
       "- name: Popular Visualisation Pseudo-Mercator\n",
       "- method: Popular Visualisation Pseudo Mercator\n",
       "Datum: World Geodetic System 1984 ensemble\n",
       "- Ellipsoid: WGS 84\n",
       "- Prime Meridian: Greenwich"
      ]
     },
     "execution_count": 199,
     "metadata": {},
     "output_type": "execute_result"
    }
   ],
   "source": [
    "#convert from geographic projection to projected.Chose web-mercator. If needed on web-map, most-likely projection. \n",
    "county_df_repro = county_df.to_crs(\"EPSG:3857\")\n",
    "sub_df_repro = sub_df.to_crs(\"EPSG:3857\")\n",
    "county_df_repro.crs"
   ]
  },
  {
   "cell_type": "code",
   "execution_count": 200,
   "metadata": {},
   "outputs": [
    {
     "data": {
      "text/html": [
       "<div>\n",
       "<style scoped>\n",
       "    .dataframe tbody tr th:only-of-type {\n",
       "        vertical-align: middle;\n",
       "    }\n",
       "\n",
       "    .dataframe tbody tr th {\n",
       "        vertical-align: top;\n",
       "    }\n",
       "\n",
       "    .dataframe thead th {\n",
       "        text-align: right;\n",
       "    }\n",
       "</style>\n",
       "<table border=\"1\" class=\"dataframe\">\n",
       "  <thead>\n",
       "    <tr style=\"text-align: right;\">\n",
       "      <th></th>\n",
       "      <th>STATEFP</th>\n",
       "      <th>COUNTYFP</th>\n",
       "      <th>COUNTYNS</th>\n",
       "      <th>AFFGEOID</th>\n",
       "      <th>GEOID</th>\n",
       "      <th>NAME</th>\n",
       "      <th>LSAD</th>\n",
       "      <th>ALAND</th>\n",
       "      <th>AWATER</th>\n",
       "      <th>geometry</th>\n",
       "    </tr>\n",
       "  </thead>\n",
       "  <tbody>\n",
       "    <tr>\n",
       "      <th>662</th>\n",
       "      <td>10</td>\n",
       "      <td>005</td>\n",
       "      <td>00217269</td>\n",
       "      <td>0500000US10005</td>\n",
       "      <td>10005</td>\n",
       "      <td>Sussex</td>\n",
       "      <td>06</td>\n",
       "      <td>2424543661</td>\n",
       "      <td>674175861</td>\n",
       "      <td>POLYGON ((-8429401.172 4697329.607, -8425726.1...</td>\n",
       "    </tr>\n",
       "    <tr>\n",
       "      <th>779</th>\n",
       "      <td>10</td>\n",
       "      <td>003</td>\n",
       "      <td>00217270</td>\n",
       "      <td>0500000US10003</td>\n",
       "      <td>10003</td>\n",
       "      <td>New Castle</td>\n",
       "      <td>06</td>\n",
       "      <td>1104149852</td>\n",
       "      <td>175376290</td>\n",
       "      <td>MULTIPOLYGON (((-8411918.102 4795690.044, -841...</td>\n",
       "    </tr>\n",
       "    <tr>\n",
       "      <th>963</th>\n",
       "      <td>10</td>\n",
       "      <td>001</td>\n",
       "      <td>00217271</td>\n",
       "      <td>0500000US10001</td>\n",
       "      <td>10001</td>\n",
       "      <td>Kent</td>\n",
       "      <td>06</td>\n",
       "      <td>1517232133</td>\n",
       "      <td>550433497</td>\n",
       "      <td>POLYGON ((-8433576.239 4764277.613, -8432451.4...</td>\n",
       "    </tr>\n",
       "  </tbody>\n",
       "</table>\n",
       "</div>"
      ],
      "text/plain": [
       "    STATEFP COUNTYFP  COUNTYNS        AFFGEOID  GEOID        NAME LSAD  \\\n",
       "662      10      005  00217269  0500000US10005  10005      Sussex   06   \n",
       "779      10      003  00217270  0500000US10003  10003  New Castle   06   \n",
       "963      10      001  00217271  0500000US10001  10001        Kent   06   \n",
       "\n",
       "          ALAND     AWATER                                           geometry  \n",
       "662  2424543661  674175861  POLYGON ((-8429401.172 4697329.607, -8425726.1...  \n",
       "779  1104149852  175376290  MULTIPOLYGON (((-8411918.102 4795690.044, -841...  \n",
       "963  1517232133  550433497  POLYGON ((-8433576.239 4764277.613, -8432451.4...  "
      ]
     },
     "execution_count": 200,
     "metadata": {},
     "output_type": "execute_result"
    }
   ],
   "source": [
    "county_df_repro.loc[county_df_repro.STATEFP == '10'] #testing query"
   ]
  },
  {
   "cell_type": "code",
   "execution_count": 201,
   "metadata": {},
   "outputs": [
    {
     "data": {
      "text/plain": [
       "<AxesSubplot:>"
      ]
     },
     "execution_count": 201,
     "metadata": {},
     "output_type": "execute_result"
    },
    {
     "data": {
      "image/png": "[encoded data removed]",
      "text/plain": [
       "<Figure size 432x288 with 1 Axes>"
      ]
     },
     "metadata": {
      "needs_background": "light"
     },
     "output_type": "display_data"
    },
    {
     "data": {
      "image/png": "[encoded data removed]",
      "text/plain": [
       "<Figure size 432x288 with 1 Axes>"
      ]
     },
     "metadata": {
      "needs_background": "light"
     },
     "output_type": "display_data"
    }
   ],
   "source": [
    "delaware_counties_df = county_df_repro.loc[county_df_repro.STATEFP == '10'].copy() #Don't want to get a warning from chained assignment so just created copy of dataframe.\n",
    "delaware_counties_df.plot(column = 'NAME', cmap = \"prism\") #Wanting to see map of Delaware counties. \n",
    "delaware_counties_df.geometry = delaware_counties_df.geometry.buffer(1609.34) #1 mile is 1609.34 meters. Working in meters due to web-mercator projection.\n",
    "delaware_counties_df.geometry.plot(cmap='Accent') # Map of Delaware counties with buffer."
   ]
  },
  {
   "cell_type": "code",
   "execution_count": 202,
   "metadata": {},
   "outputs": [
    {
     "data": {
      "text/plain": [
       "<AxesSubplot:>"
      ]
     },
     "execution_count": 202,
     "metadata": {},
     "output_type": "execute_result"
    },
    {
     "data": {
      "image/png": "[encoded data removed]",
      "text/plain": [
       "<Figure size 432x288 with 1 Axes>"
      ]
     },
     "metadata": {
      "needs_background": "light"
     },
     "output_type": "display_data"
    }
   ],
   "source": [
    "ax = delaware_counties_df.plot(column='NAME',legend = True) #using variable ax for axes \n",
    "ax"
   ]
  },
  {
   "cell_type": "code",
   "execution_count": 203,
   "metadata": {},
   "outputs": [],
   "source": [
    "sub_counties = geopandas.overlay(sub_df_repro,delaware_counties_df, how='intersection') #selecting substations that intersect the 1 mile buffer of delaware counties. \n",
    "sub_counties = sub_counties.rename({'NAME_1': 'SUBSTATION_NAME', 'NAME_2': 'COUNTY_WITHIN_1MILE'}, axis='columns') #renaming columns to make more sense\n",
    "sub_counties.to_csv(\"Substations_Intersection_with_1MileBuffer.csv\")#save geodataframe out as csv to deliver"
   ]
  },
  {
   "cell_type": "code",
   "execution_count": 204,
   "metadata": {},
   "outputs": [
    {
     "name": "stdout",
     "output_type": "stream",
     "text": [
      "     OBJECTID      ID SUBSTATION_NAME     CITY STATE    ZIP        TYPE  \\\n",
      "112     53880  172833   UNKNOWN172833  CLAYTON    DE  19938  SUBSTATION   \n",
      "131     15903  128232   UNKNOWN128232  MILFORD    DE  19963  SUBSTATION   \n",
      "167     52063  170942   UNKNOWN170942  MILFORD    DE  19963  SUBSTATION   \n",
      "\n",
      "         STATUS COUNTY COUNTYFIPS  ... STATEFP  COUNTYFP  COUNTYNS  \\\n",
      "112  IN SERVICE   KENT      10001  ...      10       001  00217271   \n",
      "131  IN SERVICE   KENT      10001  ...      10       005  00217269   \n",
      "167  IN SERVICE   KENT      10001  ...      10       005  00217269   \n",
      "\n",
      "           AFFGEOID  GEOID COUNTY_WITHIN_1MILE LSAD       ALAND     AWATER  \\\n",
      "112  0500000US10001  10001                Kent   06  1517232133  550433497   \n",
      "131  0500000US10005  10005              Sussex   06  2424543661  674175861   \n",
      "167  0500000US10005  10005              Sussex   06  2424543661  674175861   \n",
      "\n",
      "                             geometry  \n",
      "112  POINT (-8420447.736 4762980.986)  \n",
      "131  POINT (-8401696.425 4710067.267)  \n",
      "167  POINT (-8398722.677 4710438.183)  \n",
      "\n",
      "[3 rows x 34 columns]\n",
      "     OBJECTID      ID SUBSTATION_NAME     CITY STATE    ZIP        TYPE  \\\n",
      "63      53880  172833   UNKNOWN172833  CLAYTON    DE  19938  SUBSTATION   \n",
      "112     53880  172833   UNKNOWN172833  CLAYTON    DE  19938  SUBSTATION   \n",
      "\n",
      "         STATUS COUNTY COUNTYFIPS  ... STATEFP  COUNTYFP  COUNTYNS  \\\n",
      "63   IN SERVICE   KENT      10001  ...      10       003  00217270   \n",
      "112  IN SERVICE   KENT      10001  ...      10       001  00217271   \n",
      "\n",
      "           AFFGEOID  GEOID COUNTY_WITHIN_1MILE LSAD       ALAND     AWATER  \\\n",
      "63   0500000US10003  10003          New Castle   06  1104149852  175376290   \n",
      "112  0500000US10001  10001                Kent   06  1517232133  550433497   \n",
      "\n",
      "                             geometry  \n",
      "63   POINT (-8420447.736 4762980.986)  \n",
      "112  POINT (-8420447.736 4762980.986)  \n",
      "\n",
      "[2 rows x 34 columns]\n"
     ]
    }
   ],
   "source": [
    "duplicateRowsDF = sub_counties[sub_counties.duplicated(['ID'])] #finding duplicates, this would occur if one substation is within 1 mile of multiple counties. \n",
    "print(duplicateRowsDF) # turns out there are 3 substations that fit multiple counties. ID's 172833,128232,170942\n",
    "df172833 = sub_counties.loc[sub_counties.ID == \"172833\"]#testing to see which counties fit this ID\n",
    "print(df172833) #showing duplicate records for that ID"
   ]
  },
  {
   "cell_type": "code",
   "execution_count": 205,
   "metadata": {},
   "outputs": [
    {
     "data": {
      "image/png": "[encoded data removed]",
      "text/plain": [
       "<Figure size 432x288 with 1 Axes>"
      ]
     },
     "metadata": {
      "needs_background": "light"
     },
     "output_type": "display_data"
    }
   ],
   "source": [
    "fig, ax = plt.subplots()\n",
    "ax.set_aspect('equal',adjustable = 'datalim') #aspect ratio 1 to 1.\n",
    "ax.set_title(\"Substations within 1 mile of Delaware Counties\") #setting title\n",
    "county_df_repro.loc[county_df_repro.STATEFP == '10'].plot(ax=ax, column = 'NAME', cmap = 'Paired',edgecolor = 'grey',legend=True)#mapping delaware counties\n",
    "sub_counties.plot(ax=ax, marker='*',column = \"STATE\",cmap =\"brg\", markersize = 6, figsize=(8,4))# mapping substations\n",
    "leg = ax.get_legend()\n",
    "leg.set_bbox_to_anchor((.7,.5,.3,.3))#repositioning legend\n",
    "plt.savefig(\"SubstationsDelware.jpg\")#Exporting image"
   ]
  },
  {
   "cell_type": "code",
   "execution_count": null,
   "metadata": {},
   "outputs": [],
   "source": []
  }
 ],
 "metadata": {
  "kernelspec": {
   "display_name": "Python 3",
   "language": "python",
   "name": "python3"
  },
  "language_info": {
   "codemirror_mode": {
    "name": "ipython",
    "version": 3
   },
   "file_extension": ".py",
   "mimetype": "text/x-python",
   "name": "python",
   "nbconvert_exporter": "python",
   "pygments_lexer": "ipython3",
   "version": "3.8.5"
  }
 },
 "nbformat": 4,
 "nbformat_minor": 5
}
